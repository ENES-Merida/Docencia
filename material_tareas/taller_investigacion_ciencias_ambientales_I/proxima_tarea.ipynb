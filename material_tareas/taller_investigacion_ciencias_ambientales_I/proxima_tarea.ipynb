{
 "cells": [
  {
   "cell_type": "markdown",
   "metadata": {},
   "source": [
    "<div style=\"text-align: center;\">\n",
    "    <h1>Escuela Nacional de Estudios Superiores - UNAM</h1>\n",
    "    <h3>Unidad Mérida</h2>\n",
    "    <br>\n",
    "    <h2>Taller de Investigación en Ciencias Ambientales</h2>\n",
    "    <h3>Tarea #2</h3>\n",
    "    <!-- <img src=\"../../images/banner.png\" alt=\"Banner curso\" style=\"width:80%\"> -->\n",
    "</div>"
   ]
  },
  {
   "cell_type": "code",
   "execution_count": 4,
   "metadata": {},
   "outputs": [],
   "source": [
    "# Aquí importa las librerías que necesitas"
   ]
  },
  {
   "cell_type": "markdown",
   "metadata": {},
   "source": [
    "#### Implementar computacionalmente las sucesiones dadas, generando los primeros 100 términos y representándolos visualmente.\n",
    "\n",
    "1. $\\left\\{ \\dfrac{n+1}{2n-1} \\right\\}$\n",
    "   \n",
    "2. $\\left\\{ \\dfrac{e^n}{n} \\right\\}$\n",
    "   \n",
    "3. $\\left\\{ \\dfrac{3 - 2n^2}{n^2 + 1} \\right\\}$\n",
    "\n",
    "4. $\\left\\{ \\dfrac{ln\\ n}{n^2} \\right\\}$\n",
    "\n",
    "5. $\\left\\{ \\dfrac{n}{n + 1} \\sin\\left( \\dfrac{n \\pi}{2}\\right) \\right\\}$"
   ]
  },
  {
   "cell_type": "markdown",
   "metadata": {},
   "source": [
    "#### Implementar computacionalmente las series dadas, calculando los primeros 1000 elementos.\n",
    "\n",
    "1. $\\displaystyle\\sum_{i={1 \\over 2}}^{n} \\dfrac{i+1}{2i-1}$\n",
    "   \n",
    "2. $\\displaystyle\\sum_{i = 0}^{n} \\dfrac{e^i}{i}$\n",
    "   \n",
    "3. $\\displaystyle\\sum_{i = 1}^{n} \\dfrac{3 - 2i^2}{i^2 + 1}$\n",
    "\n",
    "4. $\\displaystyle\\sum_{i = 0}^{n} \\dfrac{ln\\ i}{i^2}$\n",
    "\n",
    "5. $\\displaystyle\\sum_{i = -1}^{n} \\dfrac{i}{i + 1} \\sin\\left( \\dfrac{i \\pi}{2}\\right)$"
   ]
  },
  {
   "cell_type": "markdown",
   "metadata": {},
   "source": [
    "#### Implementar computacionalmente las siguientes funciones y obtener su gráfica.\n",
    "\n",
    "1. $f(x) = |x|$\n",
    "2. $f(x) = \\begin{cases}\n",
    "      x + 1, &\\text{si } x < 1 \\\\\n",
    "      x^2 - 2x &\\text{si } x \\geq 1\n",
    "   \\end{cases}$\n",
    "3. $f(x) = \\begin{cases}\n",
    "      -{1 \\over x}, &\\text{si } x < 0 \\\\\n",
    "      3 &\\text{si } x = 0 \\\\\n",
    "      \\ln(x) &\\text{si } x > 0\n",
    "   \\end{cases}$\n",
    "4. $f(x) = \\begin{cases}\n",
    "      x^2 + 1, &\\text{si } x \\neq 0 \\\\\n",
    "      2 &\\text{si } x = 0\n",
    "   \\end{cases}$\n",
    "5. $f(x) = \\begin{cases}\n",
    "-x, & \\text{si } x \\in (-\\infty, 0] \\\\\n",
    "2x, & \\text{si } x \\in (0, 1) \\\\\n",
    "1, & \\text{si } x \\in [1, +\\infty)\n",
    "\\end{cases}$"
   ]
  },
  {
   "cell_type": "markdown",
   "metadata": {},
   "source": [
    "#### Implementar computacionalmente las siguientes formulas en diferencia finitas para aproximar la derivada de una función en un punto.\n",
    "\n",
    "**Fórmula de dos puntos de diferencia hacia delante**  \n",
    "\n",
    "$f'(x) = {f(x+h) - f(x) \\over h} + \\mathit{O}(h^2)$\n",
    "\n",
    "**Fórmula de tres puntos de diferencia centrada**  \n",
    "\n",
    "$f'(x) = {f(x+h) - f(x - h) \\over 2h} + \\mathit{O}(h^2)$"
   ]
  },
  {
   "cell_type": "markdown",
   "metadata": {},
   "source": [
    "Utiliza las fórmulas anteriores para calcular la derivada de $f(x) = \\sin(3x)$ en $x = {\\pi / 4}$. Crea una tabla con la siguiente información:\n",
    "|h|Formula de dos puntos|error|Formula de tres puntos|error|\n",
    "|---|---|---|---|---|"
   ]
  },
  {
   "cell_type": "markdown",
   "metadata": {},
   "source": [
    "La **Regla del Punto Medio** se utiliza para aproximar el valor de una integral definida de una función. Esta regla se define como:\n",
    "\\begin{alignat*}{4}\n",
    "   \\int_a^b f(x) dx & = \\sum_{i = 0}^{n-1} \\int_{x_i}^{x_{i+1}} f(x) dx \\\\\n",
    "   & = \\sum_{i = 0}^{n-1} \\left[ f \\left(x_i + {h \\over 2}\\right) \\cdot h + \\mathit{O}(h^3) \\right] \\\\\n",
    "   & = h \\cdot \\sum_{i = 0}^{n-1} f_{i + {1 \\over 2}} + n \\cdot \\mathit{O}(h^3) \\\\\n",
    "   & = \\mathit{I_M} + \\mathit{O}(h^2)\n",
    "\\end{alignat*}\n",
    "\n",
    "donde \n",
    "\\begin{equation}\n",
    "   \\mathit{I_M} = h \\cdot (f_{0 + {1 \\over 2}} + f_{1 + {1 \\over 2}} + f_{2 + {1 \\over 2}} + \\cdots + f_{(n-1) + {1 \\over 2}})\n",
    "\\end{equation}\n",
    "\n",
    "y \n",
    "\\begin{equation*}\n",
    "   f_{i + {1 \\over 2}} = f\\left( x_i + {h \\over 2} \\right) \\text{ para } i = 0, 1, 2, \\ldots, n-1.\n",
    "\\end{equation*}\n",
    "\n",
    "La expresión $\\mathit{I_M}$ se conoce como **Regla del Punto Medio Compuesto**. Se consideran tamaños de subintervalos iguales, es decir, $h = {b - a \\over n}$. "
   ]
  },
  {
   "cell_type": "markdown",
   "metadata": {},
   "source": [
    "La **Regla del Trapecio** se utiliza para aproximar el valor de una integral definida de una función. Esta regla se define como:\n",
    "\\begin{alignat*}{4}\n",
    "   \\int_a^b f(x) dx & = \\sum_{i = 0}^{n-1} \\int_{x_i}^{x_{i+1}} f(x) dx \\\\\n",
    "   & = \\sum_{i = 0}^{n-1} \\left[ {h \\over 2} \\cdot \\left( f(x_{i}) + f(x_{i+1}) \\right) + \\mathit{O}(h^3) \\right] \\\\\n",
    "   & = {h \\over 2} \\cdot \\left( f(x_{0}) + f(x_{n}) + 2 \\sum_{i = 1}^{n-1} f(x_i) \\right) + n \\cdot \\mathit{O}(h^3) \\\\\n",
    "   & = \\mathit{I_T} + \\mathit{O}(h^2)\n",
    "\\end{alignat*}\n",
    "\n",
    "donde \n",
    "\\begin{equation*}\n",
    "   \\mathit{I_T} = {h \\over 2} \\cdot (f_{0} + f_{n} + 2 \\cdot f_{1} + 2 \\cdot f_{2} + \\cdots + 2 \\cdot f_{(n-1)})\n",
    "\\end{equation*}\n",
    "\n",
    "y \n",
    "\\begin{equation*}\n",
    "   f_{i} = f( x_i) \\text{ para } i = 0, 1, 2, \\ldots, n.\n",
    "\\end{equation*}\n",
    "\n",
    "La expresión $\\mathit{I_T}$ se conoce como **Regla del Trapecio Compuesto**. Se consideran tamaños de subintervalos iguales, es decir, $h = {b - a \\over n}$. "
   ]
  },
  {
   "cell_type": "markdown",
   "metadata": {},
   "source": [
    "La **Regla de Simpson** se utiliza para aproximar el valor de una integral definida de una función. Esta regla se define como:\n",
    "\\begin{alignat*}{4}\n",
    "   \\int_a^b f(x) dx & = \\sum_{i = 0}^{n-1} \\int_{x_{2i}}^{x_{2i+2}} f(x) dx \\\\\n",
    "   & = \\sum_{i = 0}^{n-1} \\left[ {h \\over 3} \\cdot \\left( f(x_{2i}) + f(x_{2i+1}) + f(x_{2i+2}) \\right) + \\mathit{O}(h^5) \\right] \\\\\n",
    "   & = {h \\over 3} \\cdot \\left( f(x_{0}) + f(x_{2n}) + \\sum_{i = 1}^{n} f(x_{2i-1}) + 2 \\sum_{i = 1}^{n-1} f(x_{2i}) \\right) + n \\cdot \\mathit{O}(h^5) \\\\\n",
    "   & = \\mathit{I_S} + \\mathit{O}(h^4)\n",
    "\\end{alignat*}\n",
    "\n",
    "donde \n",
    "\\begin{equation*}\n",
    "   \\mathit{I_S} = {h \\over 3} \\cdot (f_{0} + 4 \\cdot f_{1} + 2 \\cdot f_{2} + 4 \\cdot f_{3} + 2 \\cdot f_{4} + \\cdots + 2 \\cdot f_{2n-2} + 4 \\cdot f_{2n-1} + f_{2n})\n",
    "\\end{equation*}\n",
    "\n",
    "y \n",
    "\\begin{equation*}\n",
    "   f_{i} = f(x_i) \\text{ para } i = 0, 1, 2, \\ldots, 2n-2, 2n-1, 2n.\n",
    "\\end{equation*}\n",
    "\n",
    "La expresión $\\mathit{I_T}$ se conoce como **Regla de Simpson Compuesta**. Se consideran tamaños de subintervalos iguales, es decir, $h = {b - a \\over n}$. "
   ]
  },
  {
   "cell_type": "markdown",
   "metadata": {},
   "source": [
    "Implementa computacionalmente y utiliza las reglas de integración numéricas vistas anteriormente para aproximar el valor de\n",
    "\\begin{equation*}\n",
    "    \\int_0^1 e^{3x}dx\n",
    "\\end{equation*}\n",
    "\n",
    "<!-- La solución analítica de la integral definida anterior es ${1 \\over 3} (e^3 - 1)$. -->\n",
    "Crea una tabla con la siguiente información:\n",
    "|n|Punto Medio|error|Trapecio|error|Simpson|error|\n",
    "|---|---|---|---|---|---|---|"
   ]
  },
  {
   "cell_type": "markdown",
   "metadata": {},
   "source": []
  }
 ],
 "metadata": {
  "kernelspec": {
   "display_name": "enes_env",
   "language": "python",
   "name": "python3"
  },
  "language_info": {
   "codemirror_mode": {
    "name": "ipython",
    "version": 3
   },
   "file_extension": ".py",
   "mimetype": "text/x-python",
   "name": "python",
   "nbconvert_exporter": "python",
   "pygments_lexer": "ipython3",
   "version": "3.11.9"
  }
 },
 "nbformat": 4,
 "nbformat_minor": 2
}
