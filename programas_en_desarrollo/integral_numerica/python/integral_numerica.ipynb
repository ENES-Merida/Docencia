{
 "cells": [
  {
   "cell_type": "code",
   "execution_count": 1,
   "metadata": {},
   "outputs": [],
   "source": [
    "import numpy as np\n",
    "import functions as fn"
   ]
  },
  {
   "cell_type": "code",
   "execution_count": 5,
   "metadata": {},
   "outputs": [],
   "source": [
    "# Midpoint Rule\n",
    "\n",
    "def midpoint_rule(function, interval, subintervals_number):\n",
    "    \n",
    "    h = (interval[1] - interval[0]) / subintervals_number\n",
    "\n",
    "    midpoints = np.zeros(subintervals_number)\n",
    "    for i in range(subintervals_number):\n",
    "        midpoints[i] = (2 * i + 1) * h / 2\n",
    "    \n",
    "    sum = 0\n",
    "    for i in range(subintervals_number):\n",
    "        sum += function(midpoints[i])*h\n",
    "    \n",
    "    return sum"
   ]
  },
  {
   "cell_type": "code",
   "execution_count": 39,
   "metadata": {},
   "outputs": [],
   "source": [
    "# # Trapezoidal Rule\n",
    "\n",
    "def trapezoidal_rule(function, interval, subintervals_number):\n",
    "\n",
    "    h = (interval[1] - interval[0]) / subintervals_number\n",
    "    \n",
    "    sum = 0.5 * function(interval[0]) * h\n",
    "    for i in range(1,subintervals_number):\n",
    "        sum += function(i*h)*h\n",
    "    sum += 0.5 * function(interval[1]) * h\n",
    "    \n",
    "    return sum"
   ]
  },
  {
   "cell_type": "code",
   "execution_count": 37,
   "metadata": {},
   "outputs": [],
   "source": [
    "# Simpson's Rule\n",
    "\n",
    "def simpson_rule(function, interval, subintervals_number):\n",
    "\n",
    "    h = (interval[1] - interval[0]) / subintervals_number\n",
    "    t = h / 3\n",
    "    \n",
    "    sum = 0\n",
    "    for i in range(0, subintervals_number, 2):\n",
    "        sum += function(i*h) * t\n",
    "        sum += 4 * function((i+1)*h) * t\n",
    "        sum += function((i+2)*h) * t\n",
    "    \n",
    "    return sum"
   ]
  },
  {
   "cell_type": "code",
   "execution_count": 3,
   "metadata": {},
   "outputs": [],
   "source": [
    "x = midpoint_rule(fn.e3x, [0,1], 27445)"
   ]
  },
  {
   "cell_type": "code",
   "execution_count": 40,
   "metadata": {},
   "outputs": [
    {
     "data": {
      "text/plain": [
       "6.883368796327843"
      ]
     },
     "execution_count": 40,
     "metadata": {},
     "output_type": "execute_result"
    }
   ],
   "source": [
    "x = trapezoidal_rule(fn.e3x, [0,1], 3)\n",
    "x"
   ]
  },
  {
   "cell_type": "code",
   "execution_count": 42,
   "metadata": {},
   "outputs": [
    {
     "data": {
      "text/plain": [
       "6.362128885519897"
      ]
     },
     "execution_count": 42,
     "metadata": {},
     "output_type": "execute_result"
    }
   ],
   "source": [
    "x = simpson_rule(fn.e3x, [0,1], 10)\n",
    "x"
   ]
  },
  {
   "cell_type": "code",
   "execution_count": null,
   "metadata": {},
   "outputs": [],
   "source": []
  }
 ],
 "metadata": {
  "kernelspec": {
   "display_name": "base",
   "language": "python",
   "name": "python3"
  },
  "language_info": {
   "codemirror_mode": {
    "name": "ipython",
    "version": 3
   },
   "file_extension": ".py",
   "mimetype": "text/x-python",
   "name": "python",
   "nbconvert_exporter": "python",
   "pygments_lexer": "ipython3",
   "version": "3.11.9"
  }
 },
 "nbformat": 4,
 "nbformat_minor": 2
}
