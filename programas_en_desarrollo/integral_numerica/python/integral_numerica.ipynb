{
 "cells": [
  {
   "cell_type": "code",
   "execution_count": 1,
   "metadata": {},
   "outputs": [],
   "source": [
    "import numpy as np\n",
    "import functions as fn"
   ]
  },
  {
   "cell_type": "code",
   "execution_count": 2,
   "metadata": {},
   "outputs": [],
   "source": [
    "class ImparError(Exception):\n",
    "    def __init__(self, numero_impar, mensaje='El número de subintervalos es impar'):\n",
    "        self.numero_impar = numero_impar\n",
    "        self.mensaje = mensaje\n",
    "        super().__init__(f'{mensaje}: {numero_impar}. Introduzca solo números pares.')"
   ]
  },
  {
   "cell_type": "code",
   "execution_count": 3,
   "metadata": {},
   "outputs": [],
   "source": [
    "def imprimir(metodo, resultado):\n",
    "    if resultado is None:\n",
    "        pass\n",
    "    else:\n",
    "        print(f'La solución aproximada usando la regla de {metodo} es {resultado:.14f}.')"
   ]
  },
  {
   "cell_type": "markdown",
   "metadata": {},
   "source": [
    "# Integración Numérica"
   ]
  },
  {
   "cell_type": "markdown",
   "metadata": {},
   "source": [
    "La **Regla del Punto Medio** se utiliza para aproximar el valor de una integral definida de una función. Esta regla se define como:\n",
    "\\begin{alignat*}{4}\n",
    "   \\int_a^b f(x) dx & = \\sum_{i = 0}^{n-1} \\int_{x_i}^{x_{i+1}} f(x) dx \\\\\n",
    "   & = \\sum_{i = 0}^{n-1} \\left[ f \\left(x_i + {h \\over 2}\\right) \\cdot h + \\mathit{O}(h^3) \\right] \\\\\n",
    "   & = h \\cdot \\sum_{i = 0}^{n-1} f_{i + {1 \\over 2}} + n \\cdot \\mathit{O}(h^3) \\\\\n",
    "   & = \\mathit{I_M} + \\mathit{O}(h^2)\n",
    "\\end{alignat*}\n",
    "\n",
    "donde \n",
    "\\begin{equation*}\n",
    "   \\mathit{I_M} = h \\cdot (f_{0 + {1 \\over 2}} + f_{1 + {1 \\over 2}} + f_{2 + {1 \\over 2}} + \\cdots + f_{(n-1) + {1 \\over 2}})\n",
    "\\end{equation*}\n",
    "\n",
    "y \n",
    "\\begin{equation*}\n",
    "   f_{i + {1 \\over 2}} = f\\left( x_i + {h \\over 2} \\right) \\text{ para } i = 0, 1, 2, \\ldots, n-1.\n",
    "\\end{equation*}\n",
    "\n",
    "La expresión $\\mathit{I_M}$ se conoce como **Regla del Punto Medio Compuesto**. Se consideran tamaños de subintervalos iguales, es decir, $h = {b - a \\over n}$. \n",
    "\n",
    "La implementación computacional se presenta a continuación."
   ]
  },
  {
   "cell_type": "code",
   "execution_count": 54,
   "metadata": {},
   "outputs": [],
   "source": [
    "# Midpoint Rule\n",
    "\n",
    "def midpoint_rule(function, lower_bound, upper_bound, subintervals_number):\n",
    "    \n",
    "    a = lower_bound\n",
    "    b = upper_bound\n",
    "    n = subintervals_number\n",
    "\n",
    "    delta = b - a\n",
    "    h = delta / n\n",
    "    \n",
    "    midpoints = np.array([a + k * h + h/2 for k in range(0,n)])     # x0 + h/2 < x1 + h/2 < ... < x_n-1 + h/2\n",
    "    \n",
    "    function_image = function(midpoints)                            # f(x_i) para toda i = 0, 1, 2, ..., n-1\n",
    "    integral_value = h * np.sum(function_image)                     # integral_value: I_M\n",
    "    \n",
    "    return integral_value"
   ]
  },
  {
   "cell_type": "markdown",
   "metadata": {},
   "source": [
    "La **Regla del Trapecio** se utiliza para aproximar el valor de una integral definida de una función. Esta regla se define como:\n",
    "\\begin{alignat*}{4}\n",
    "   \\int_a^b f(x) dx & = \\sum_{i = 0}^{n-1} \\int_{x_i}^{x_{i+1}} f(x) dx \\\\\n",
    "   & = \\sum_{i = 0}^{n-1} \\left[ {h \\over 2} \\cdot \\left( f(x_{i}) + f(x_{i+1}) \\right) + \\mathit{O}(h^3) \\right] \\\\\n",
    "   & = {h \\over 2} \\cdot \\left( f(x_{0}) + f(x_{n}) + 2 \\sum_{i = 1}^{n-1} f(x_i) \\right) + n \\cdot \\mathit{O}(h^3) \\\\\n",
    "   & = \\mathit{I_T} + \\mathit{O}(h^2)\n",
    "\\end{alignat*}\n",
    "\n",
    "donde \n",
    "\\begin{equation*}\n",
    "   \\mathit{I_T} = {h \\over 2} \\cdot (f_{0} + f_{n} + 2 \\cdot f_{1} + 2 \\cdot f_{2} + \\cdots + 2 \\cdot f_{(n-1)})\n",
    "\\end{equation*}\n",
    "\n",
    "y \n",
    "\\begin{equation*}\n",
    "   f_{i} = f( x_i) \\text{ para } i = 0, 1, 2, \\ldots, n.\n",
    "\\end{equation*}\n",
    "\n",
    "La expresión $\\mathit{I_T}$ se conoce como **Regla del Trapecio Compuesto**. Se consideran tamaños de subintervalos iguales, es decir, $h = {b - a \\over n}$. \n",
    "\n",
    "La implementación computacional se presenta a continuación."
   ]
  },
  {
   "cell_type": "code",
   "execution_count": 47,
   "metadata": {},
   "outputs": [],
   "source": [
    "# # Trapezoidal Rule\n",
    "\n",
    "def trapezoidal_rule(function, lower_bound, upper_bound, subintervals_number):\n",
    "\n",
    "    a = lower_bound\n",
    "    b = upper_bound\n",
    "    n = subintervals_number\n",
    "\n",
    "    delta = b - a\n",
    "    h = delta / n\n",
    "    H = h / 2\n",
    "\n",
    "    points = np.array([a + k * h for k in range(0,n+1)])        # x0 < x1 < x2 < ... < x_n\n",
    "    function_image = function(points)                           # f(x_i) para toda i = 0, 1, 2, ..., n\n",
    "\n",
    "    integral_value = H * (function_image[0] + function_image[n] + 2 * np.sum(function_image[1:n]))  # integral_value: I_T\n",
    "    \n",
    "    return integral_value"
   ]
  },
  {
   "cell_type": "markdown",
   "metadata": {},
   "source": [
    "La **Regla de Simpson** se utiliza para aproximar el valor de una integral definida de una función. Esta regla se define como:\n",
    "\\begin{alignat*}{4}\n",
    "   \\int_a^b f(x) dx & = \\sum_{i = 0}^{n-1} \\int_{x_{2i}}^{x_{2i+2}} f(x) dx \\\\\n",
    "   & = \\sum_{i = 0}^{n-1} \\left[ {h \\over 3} \\cdot \\left( f(x_{2i}) + f(x_{2i+1}) + f(x_{2i+2}) \\right) + \\mathit{O}(h^5) \\right] \\\\\n",
    "   & = {h \\over 3} \\cdot \\left( f(x_{0}) + f(x_{2n}) + \\sum_{i = 1}^{n} f(x_{2i-1}) + 2 \\sum_{i = 1}^{n-1} f(x_{2i}) \\right) + n \\cdot \\mathit{O}(h^5) \\\\\n",
    "   & = \\mathit{I_S} + \\mathit{O}(h^4)\n",
    "\\end{alignat*}\n",
    "\n",
    "donde \n",
    "\\begin{equation*}\n",
    "   \\mathit{I_S} = {h \\over 3} \\cdot (f_{0} + 4 \\cdot f_{1} + 2 \\cdot f_{2} + 4 \\cdot f_{3} + 2 \\cdot f_{4} + \\cdots + 2 \\cdot f_{2n-2} + 4 \\cdot f_{2n-1} + f_{2n})\n",
    "\\end{equation*}\n",
    "\n",
    "y \n",
    "\\begin{equation*}\n",
    "   f_{i} = f(x_i) \\text{ para } i = 0, 1, 2, \\ldots, 2n-2, 2n-1, 2n.\n",
    "\\end{equation*}\n",
    "\n",
    "La expresión $\\mathit{I_T}$ se conoce como **Regla de Simpson Compuesta**. Se consideran tamaños de subintervalos iguales, es decir, $h = {b - a \\over n}$. \n",
    "\n",
    "La implementación computacional se presenta a continuación."
   ]
  },
  {
   "cell_type": "code",
   "execution_count": 31,
   "metadata": {},
   "outputs": [],
   "source": [
    "# Simpson's Rule\n",
    "\n",
    "def simpson_rule(function, lower_bound, upper_bound, subintervals_number):\n",
    "\n",
    "    esPar = subintervals_number % 2 == 0\n",
    "\n",
    "    try:\n",
    "\n",
    "        if not esPar:\n",
    "            raise ImparError(subintervals_number)\n",
    "\n",
    "        a = lower_bound\n",
    "        b = upper_bound\n",
    "        n = subintervals_number\n",
    "\n",
    "        delta = b - a\n",
    "        h = delta / n\n",
    "        H = h / 3\n",
    "        \n",
    "        points = np.array([a + i * h for i in range(0,n+1)])        # x0 < x1 < x2 < ... < x_n+1\n",
    "        function_image = function(points)                           # f(x_i) para toda i = 0, 1, 2, ..., n+1\n",
    "        integral_value = H * (function_image[0] + 4 * np.sum(function_image[1:n:2]) + 2 * np.sum(function_image[2:n-1:2]) + function_image[n])  # integral_value: I_S\n",
    "        \n",
    "        return integral_value\n",
    "        \n",
    "    except ImparError as error:\n",
    "        print(error)"
   ]
  },
  {
   "cell_type": "markdown",
   "metadata": {},
   "source": [
    "Utiliza las reglas de integración numéricas vistas anteriormente para aproximar el valor de\n",
    "\\begin{equation*}\n",
    "    \\int_0^1 e^{3x}dx\n",
    "\\end{equation*}\n",
    "\n",
    "La solución analítica de la integral definida anterior es ${1 \\over 3} (e^3 - 1)$."
   ]
  },
  {
   "cell_type": "code",
   "execution_count": 49,
   "metadata": {},
   "outputs": [
    {
     "name": "stdout",
     "output_type": "stream",
     "text": [
      "La solución analítica de la integral definida es aproximadamente: 6.36184564106256.\n"
     ]
    }
   ],
   "source": [
    "solucion_analitica = 1/3 * (np.exp(3) - 1)\n",
    "print(f'La solución analítica de la integral definida es aproximadamente: {solucion_analitica:.14f}.')"
   ]
  },
  {
   "cell_type": "code",
   "execution_count": 6,
   "metadata": {},
   "outputs": [],
   "source": [
    "# Función de ejemplo\n",
    "f = lambda x: np.exp(3*x)"
   ]
  },
  {
   "cell_type": "code",
   "execution_count": 57,
   "metadata": {},
   "outputs": [
    {
     "name": "stdout",
     "output_type": "stream",
     "text": [
      "La solución aproximada usando la regla de Punto Medio es 6.36184563873278.\n"
     ]
    }
   ],
   "source": [
    "aprox_value_1 = midpoint_rule(f, 0,1, 32_000)\n",
    "imprimir('Punto Medio', aprox_value_1)"
   ]
  },
  {
   "cell_type": "code",
   "execution_count": 52,
   "metadata": {},
   "outputs": [
    {
     "name": "stdout",
     "output_type": "stream",
     "text": [
      "La solución aproximada usando la regla de Trapecio es 6.36184564572211.\n"
     ]
    }
   ],
   "source": [
    "aprox_value_2 = trapezoidal_rule(f, 0,1, 32_000)\n",
    "imprimir('Trapecio', aprox_value_2)"
   ]
  },
  {
   "cell_type": "code",
   "execution_count": 30,
   "metadata": {},
   "outputs": [
    {
     "name": "stdout",
     "output_type": "stream",
     "text": [
      "La solución aproximada usando la regla de Simpson's es 6.36212888551990.\n"
     ]
    }
   ],
   "source": [
    "aprox_value_3 = simpson_rule(f, 0,1, 10)\n",
    "# print(f'La solución aproximada usando la regla de Simpson\\'s es {aprox_value_3:.14f}.')\n",
    "imprimir('Simpson\\'s', aprox_value_3)"
   ]
  },
  {
   "cell_type": "code",
   "execution_count": null,
   "metadata": {},
   "outputs": [],
   "source": []
  }
 ],
 "metadata": {
  "kernelspec": {
   "display_name": "base",
   "language": "python",
   "name": "python3"
  },
  "language_info": {
   "codemirror_mode": {
    "name": "ipython",
    "version": 3
   },
   "file_extension": ".py",
   "mimetype": "text/x-python",
   "name": "python",
   "nbconvert_exporter": "python",
   "pygments_lexer": "ipython3",
   "version": "3.11.9"
  }
 },
 "nbformat": 4,
 "nbformat_minor": 2
}
