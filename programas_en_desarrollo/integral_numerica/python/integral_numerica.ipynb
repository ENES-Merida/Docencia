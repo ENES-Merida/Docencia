{
 "cells": [
  {
   "cell_type": "code",
   "execution_count": 6,
   "metadata": {},
   "outputs": [],
   "source": [
    "import numpy as np\n",
    "import functions as fn"
   ]
  },
  {
   "cell_type": "markdown",
   "metadata": {},
   "source": [
    "# Integración Numérica"
   ]
  },
  {
   "cell_type": "markdown",
   "metadata": {},
   "source": [
    "La **Regla del Punto Medio** se utiliza para aproximar el valor de una integral definida de una función. Esta regla se define como:\n",
    "\\begin{alignat*}{4}\n",
    "   \\int_a^b f(x) dx & = \\sum_{i = 0}^{n-1} \\int_{x_i}^{x_{i+1}} f(x) dx \\\\\n",
    "   & = \\sum_{i = 0}^{n-1} \\left[ f \\left(x_i + {h \\over 2}\\right) \\cdot h + \\mathit{O}(h^3) \\right] \\\\\n",
    "   & = h \\cdot \\sum_{i = 0}^{n-1} f_{i + {1 \\over 2}} + n \\cdot \\mathit{O}(h^3) \\\\\n",
    "   & = \\mathit{I_M} + \\mathit{O}(h^2)\n",
    "\\end{alignat*}\n",
    "\n",
    "donde \n",
    "\\begin{equation}\n",
    "   \\mathit{I_M} = h \\cdot (f_{0 + {1 \\over 2}} + f_{1 + {1 \\over 2}} + f_{2 + {1 \\over 2}} + \\cdots + f_{(n-1) + {1 \\over 2}})\n",
    "\\end{equation}\n",
    "\n",
    "y \n",
    "\\begin{equation*}\n",
    "   f_{i + {1 \\over 2}} = f\\left( x_i + {h \\over 2} \\right) \\text{ para } i = 0, 1, 2, \\ldots, n-1.\n",
    "\\end{equation*}\n",
    "\n",
    "La expresión $\\mathit{I_M}$ se conoce como **Regla del Punto Medio Compuesto**. Se consideran tamaños de subintervalos iguales, es decir, $h = {b - a \\over n}$. \n",
    "\n",
    "La implementación computacional se presenta a continuación."
   ]
  },
  {
   "cell_type": "code",
   "execution_count": 7,
   "metadata": {},
   "outputs": [],
   "source": [
    "# Midpoint Rule\n",
    "\n",
    "def midpoint_rule(function, lower_bound, upper_bound, subintervals_number):\n",
    "    \n",
    "    a = lower_bound\n",
    "    b = upper_bound\n",
    "    n = subintervals_number\n",
    "\n",
    "    delta = b - a\n",
    "    h = delta / n\n",
    "\n",
    "    midpoints = np.array([a + k*h + h/2 for k in range(0,n)])\n",
    "    function_image = function(midpoints)\n",
    "    integral_value = h * np.sum(function_image)\n",
    "    \n",
    "    return integral_value"
   ]
  },
  {
   "cell_type": "markdown",
   "metadata": {},
   "source": [
    "La **Regla del Trapecio** se utiliza para aproximar el valor de una integral definida de una función. Esta regla se define como:\n",
    "\\begin{alignat*}{4}\n",
    "   \\int_a^b f(x) dx & = \\sum_{i = 0}^{n-1} \\int_{x_i}^{x_{i+1}} f(x) dx \\\\\n",
    "   & = \\sum_{i = 0}^{n-1} \\left[ {h \\over 2} \\cdot \\left( f(x_{i}) + f(x_{i+1}) \\right) + \\mathit{O}(h^3) \\right] \\\\\n",
    "   & = {h \\over 2} \\cdot \\left( f(x_{0}) + f(x_{n}) + 2 \\sum_{i = 1}^{n-1} f(x_i) \\right) + n \\cdot \\mathit{O}(h^3) \\\\\n",
    "   & = \\mathit{I_T} + \\mathit{O}(h^2)\n",
    "\\end{alignat*}\n",
    "\n",
    "donde \n",
    "\\begin{equation*}\n",
    "   \\mathit{I_T} = {h \\over 2} \\cdot (f_{0} + f_{n} + 2 \\cdot f_{1} + 2 \\cdot f_{2} + \\cdots + 2 \\cdot f_{(n-1)})\n",
    "\\end{equation*}\n",
    "\n",
    "y \n",
    "\\begin{equation*}\n",
    "   f_{i} = f( x_i) \\text{ para } i = 0, 1, 2, \\ldots, n.\n",
    "\\end{equation*}\n",
    "\n",
    "La expresión $\\mathit{I_T}$ se conoce como **Regla del Trapecio Compuesto**. Se consideran tamaños de subintervalos iguales, es decir, $h = {b - a \\over n}$. \n",
    "\n",
    "La implementación computacional se presenta a continuación."
   ]
  },
  {
   "cell_type": "code",
   "execution_count": 8,
   "metadata": {},
   "outputs": [],
   "source": [
    "# # Trapezoidal Rule\n",
    "\n",
    "def trapezoidal_rule(function, lower_bound, upper_bound, subintervals_number):\n",
    "\n",
    "    a = lower_bound\n",
    "    b = upper_bound\n",
    "    n = subintervals_number\n",
    "\n",
    "    delta = b - a\n",
    "    h = delta / n\n",
    "    H = h / 2\n",
    "\n",
    "    points = np.array([a + k * h for k in range(0,n+1)])\n",
    "    function_image = function(points)\n",
    "\n",
    "    integral_value = H * (function_image[0] + function_image[n] + 2 * np.sum(function_image[1:n]))\n",
    "    \n",
    "    return integral_value"
   ]
  },
  {
   "cell_type": "markdown",
   "metadata": {},
   "source": [
    "La **Regla de Simpson** se utiliza para aproximar el valor de una integral definida de una función. Esta regla se define como:\n",
    "\\begin{alignat*}{4}\n",
    "   \\int_a^b f(x) dx & = \\sum_{i = 0}^{n-1} \\int_{x_{2i}}^{x_{2i+2}} f(x) dx \\\\\n",
    "   & = \\sum_{i = 0}^{n-1} \\left[ {h \\over 3} \\cdot \\left( f(x_{2i}) + f(x_{2i+1}) + f(x_{2i+2}) \\right) + \\mathit{O}(h^5) \\right] \\\\\n",
    "   & = {h \\over 3} \\cdot \\left( f(x_{0}) + f(x_{2n}) + \\sum_{i = 1}^{n} f(x_{2i-1}) + 2 \\sum_{i = 1}^{n-1} f(x_{2i}) \\right) + n \\cdot \\mathit{O}(h^5) \\\\\n",
    "   & = \\mathit{I_S} + \\mathit{O}(h^4)\n",
    "\\end{alignat*}\n",
    "\n",
    "donde \n",
    "\\begin{equation*}\n",
    "   \\mathit{I_S} = {h \\over 3} \\cdot (f_{0} + 4 \\cdot f_{1} + 2 \\cdot f_{2} + 4 \\cdot f_{3} + 2 \\cdot f_{4} + \\cdots + 2 \\cdot f_{2n-2} + 4 \\cdot f_{2n-1} + f_{2n})\n",
    "\\end{equation*}\n",
    "\n",
    "y \n",
    "\\begin{equation*}\n",
    "   f_{i} = f(x_i) \\text{ para } i = 0, 1, 2, \\ldots, 2n-2, 2n-1, 2n.\n",
    "\\end{equation*}\n",
    "\n",
    "La expresión $\\mathit{I_T}$ se conoce como **Regla de Simpson Compuesta**. Se consideran tamaños de subintervalos iguales, es decir, $h = {b - a \\over n}$. \n",
    "\n",
    "La implementación computacional se presenta a continuación."
   ]
  },
  {
   "cell_type": "code",
   "execution_count": 1,
   "metadata": {},
   "outputs": [],
   "source": [
    "# Simpson's Rule\n",
    "\n",
    "def simpson_rule(function, lower_bound, upper_bound, subintervals_number):\n",
    "\n",
    "    a = lower_bound\n",
    "    b = upper_bound\n",
    "    n = subintervals_number\n",
    "\n",
    "    delta = b - a\n",
    "    h = delta / n\n",
    "    H = h / 3\n",
    "    \n",
    "    points = np.array([a + i * h for i in range(0,n+1)])\n",
    "    integral_value = H * (function(points[0]) + 4 * np.sum(function(points[1:n:2])) + 2 * np.sum(function(points[2:n-1:2])) + function(points[n]))\n",
    "    \n",
    "    return integral_value"
   ]
  },
  {
   "cell_type": "markdown",
   "metadata": {},
   "source": [
    "Utiliza las reglas de integración numéricas vistas anteriormente para aproximar el valor de\n",
    "\\begin{equation*}\n",
    "    \\int_0^1 e^{3x}dx\n",
    "\\end{equation*}\n",
    "\n",
    "La solución analítica de la integral definida anterior es ${1 \\over 3} (e^3 - 1)$."
   ]
  },
  {
   "cell_type": "code",
   "execution_count": 10,
   "metadata": {},
   "outputs": [
    {
     "name": "stdout",
     "output_type": "stream",
     "text": [
      "La solución analítica de la integral definida es aproximadamente 6.36184564106256.\n"
     ]
    }
   ],
   "source": [
    "solucion_analitica = 1/3 * (np.exp(3) - 1)\n",
    "print(f'La solución analítica de la integral definida es aproximadamente {solucion_analitica:.14f}.')"
   ]
  },
  {
   "cell_type": "code",
   "execution_count": 11,
   "metadata": {},
   "outputs": [],
   "source": [
    "f = lambda x: np.exp(3*x)"
   ]
  },
  {
   "cell_type": "code",
   "execution_count": 15,
   "metadata": {},
   "outputs": [
    {
     "name": "stdout",
     "output_type": "stream",
     "text": [
      "La solución aproximada usando la regla del punto medio es 6.36184563873278.\n"
     ]
    }
   ],
   "source": [
    "aprox_value_1 = midpoint_rule(f, 0,1, 32_000)\n",
    "print(f'La solución aproximada usando la regla del punto medio es {aprox_value_1:.14f}.')"
   ]
  },
  {
   "cell_type": "code",
   "execution_count": 17,
   "metadata": {},
   "outputs": [
    {
     "data": {
      "text/plain": [
       "6.361845645722112"
      ]
     },
     "execution_count": 17,
     "metadata": {},
     "output_type": "execute_result"
    }
   ],
   "source": [
    "x = trapezoidal_rule(f, 0,1, 32_000)\n",
    "x"
   ]
  },
  {
   "cell_type": "code",
   "execution_count": 18,
   "metadata": {},
   "outputs": [
    {
     "data": {
      "text/plain": [
       "6.361845645430707"
      ]
     },
     "execution_count": 18,
     "metadata": {},
     "output_type": "execute_result"
    }
   ],
   "source": [
    "x = simpson_rule(f, 0,1, 160)\n",
    "x"
   ]
  },
  {
   "cell_type": "code",
   "execution_count": null,
   "metadata": {},
   "outputs": [],
   "source": []
  }
 ],
 "metadata": {
  "kernelspec": {
   "display_name": "base",
   "language": "python",
   "name": "python3"
  },
  "language_info": {
   "codemirror_mode": {
    "name": "ipython",
    "version": 3
   },
   "file_extension": ".py",
   "mimetype": "text/x-python",
   "name": "python",
   "nbconvert_exporter": "python",
   "pygments_lexer": "ipython3",
   "version": "3.11.9"
  }
 },
 "nbformat": 4,
 "nbformat_minor": 2
}
