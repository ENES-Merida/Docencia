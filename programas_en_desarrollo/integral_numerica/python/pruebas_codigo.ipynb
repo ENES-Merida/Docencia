{
 "cells": [
  {
   "cell_type": "code",
   "execution_count": 1,
   "metadata": {},
   "outputs": [],
   "source": [
    "import numpy as np\n",
    "import time"
   ]
  },
  {
   "cell_type": "code",
   "execution_count": 2,
   "metadata": {},
   "outputs": [],
   "source": [
    "def measure_execution_time(func, *args, **kwargs):\n",
    "    \"\"\"\n",
    "    Mide el tiempo de ejecución de una función.\n",
    "\n",
    "    :param func: La función a medir.\n",
    "    :param args: Los argumentos posicionales para la función.\n",
    "    :param kwargs: Los argumentos de palabra clave para la función.\n",
    "    :return: El tiempo de ejecución en segundos.\n",
    "    \"\"\"\n",
    "    start_time = time.time()  # Marca el inicio del tiempo\n",
    "    func(*args, **kwargs)  # Ejecuta la función con los argumentos dados\n",
    "    end_time = time.time()  # Marca el final del tiempo\n",
    "    \n",
    "    execution_time = end_time - start_time  # Calcula el tiempo de ejecución\n",
    "    print(f\"Tiempo de ejecución: {execution_time:.6f} segundos\")\n",
    "\n",
    "    return execution_time"
   ]
  },
  {
   "cell_type": "markdown",
   "metadata": {},
   "source": [
    "## Midpoint Rule"
   ]
  },
  {
   "cell_type": "code",
   "execution_count": 3,
   "metadata": {},
   "outputs": [
    {
     "name": "stdout",
     "output_type": "stream",
     "text": [
      "[0.16666667 0.5        0.83333333]\n",
      "[0.16666667 0.5        0.83333333]\n",
      "[0.16666667 0.5        0.83333333]\n"
     ]
    }
   ],
   "source": [
    "# Midpoint\n",
    "a = 0\n",
    "b = 1\n",
    "m = 3\n",
    "h = (b - a) / m\n",
    "mp1 = np.arange(a + h/2, b, h)\n",
    "print(mp1)\n",
    "mp2 = np.linspace(a + h/2, b - h/2, m)\n",
    "print(mp2)\n",
    "mp3 = np.array([a + k*h + h/2 for k in range(0,m)])\n",
    "print(mp3)"
   ]
  },
  {
   "cell_type": "code",
   "execution_count": 4,
   "metadata": {},
   "outputs": [
    {
     "data": {
      "text/plain": [
       "array([0.16666667, 0.5       , 0.83333333])"
      ]
     },
     "execution_count": 4,
     "metadata": {},
     "output_type": "execute_result"
    }
   ],
   "source": [
    "midpoints = np.zeros(m)\n",
    "for i in range(m):\n",
    "    midpoints[i] = (2 * i + 1) * h / 2\n",
    "midpoints"
   ]
  },
  {
   "cell_type": "markdown",
   "metadata": {},
   "source": [
    "## Trapezoidal Rule"
   ]
  },
  {
   "cell_type": "code",
   "execution_count": 5,
   "metadata": {},
   "outputs": [],
   "source": [
    "def fun_list_comprehension(a,h,m):\n",
    "    return np.array([a + k * h for k in range(0,m+1)])"
   ]
  },
  {
   "cell_type": "code",
   "execution_count": 6,
   "metadata": {},
   "outputs": [
    {
     "name": "stdout",
     "output_type": "stream",
     "text": [
      "[0.         0.33333333 0.66666667 1.        ]\n",
      "[0.         0.33333333 0.66666667 1.        ]\n",
      "[0.         0.33333333 0.66666667 1.        ]\n"
     ]
    }
   ],
   "source": [
    "# Trapezoidal\n",
    "a = 0\n",
    "b = 1\n",
    "m = 3\n",
    "h = (b - a) / m\n",
    "g = np.arange(a, b+h, h)\n",
    "print(g)\n",
    "j = np.linspace(a,b,m+1)\n",
    "print(j)\n",
    "# f = np.array([a + k * h for k in range(m+1)])\n",
    "f = fun_list_comprehension(a,h,m)\n",
    "print(f)"
   ]
  },
  {
   "cell_type": "markdown",
   "metadata": {},
   "source": [
    "### Tiempo de ejecución para creación de arreglos"
   ]
  },
  {
   "cell_type": "code",
   "execution_count": 7,
   "metadata": {},
   "outputs": [
    {
     "name": "stdout",
     "output_type": "stream",
     "text": [
      "Tiempo de ejecución: 0.000012 segundos\n",
      "Tiempo de ejecución: 0.000049 segundos\n",
      "Tiempo de ejecución: 0.000006 segundos\n"
     ]
    },
    {
     "data": {
      "text/plain": [
       "6.4373016357421875e-06"
      ]
     },
     "execution_count": 7,
     "metadata": {},
     "output_type": "execute_result"
    }
   ],
   "source": [
    "measure_execution_time(np.arange, a,b,h)\n",
    "measure_execution_time(np.linspace, a,b,m+1)\n",
    "measure_execution_time(fun_list_comprehension, a,h,m)"
   ]
  },
  {
   "cell_type": "markdown",
   "metadata": {},
   "source": [
    "## Simpson's Rule"
   ]
  },
  {
   "cell_type": "code",
   "execution_count": 9,
   "metadata": {},
   "outputs": [
    {
     "data": {
      "text/plain": [
       "array([0. , 0.1, 0.2, 0.3, 0.4, 0.5, 0.6, 0.7, 0.8, 0.9, 1. ])"
      ]
     },
     "execution_count": 9,
     "metadata": {},
     "output_type": "execute_result"
    }
   ],
   "source": [
    "# simpson\n",
    "a = 0\n",
    "b = 1\n",
    "m = 10\n",
    "h = (b - a) / m\n",
    "H = h / 3\n",
    "xi = np.array([a + i * h for i in range(0,m+1)])\n",
    "xi"
   ]
  },
  {
   "cell_type": "code",
   "execution_count": 11,
   "metadata": {},
   "outputs": [
    {
     "data": {
      "text/plain": [
       "array([0.1, 0.3, 0.5, 0.7, 0.9])"
      ]
     },
     "execution_count": 11,
     "metadata": {},
     "output_type": "execute_result"
    }
   ],
   "source": [
    "# xi[np.arange(1,m+1,2)]\n",
    "xi[1:m+1:2]"
   ]
  },
  {
   "cell_type": "code",
   "execution_count": 10,
   "metadata": {},
   "outputs": [
    {
     "data": {
      "text/plain": [
       "array([0.2, 0.4, 0.6, 0.8])"
      ]
     },
     "execution_count": 10,
     "metadata": {},
     "output_type": "execute_result"
    }
   ],
   "source": [
    "# xi[np.arange(2,m,2)]\n",
    "xi[2:m:2]"
   ]
  },
  {
   "cell_type": "code",
   "execution_count": null,
   "metadata": {},
   "outputs": [],
   "source": []
  }
 ],
 "metadata": {
  "kernelspec": {
   "display_name": "base",
   "language": "python",
   "name": "python3"
  },
  "language_info": {
   "codemirror_mode": {
    "name": "ipython",
    "version": 3
   },
   "file_extension": ".py",
   "mimetype": "text/x-python",
   "name": "python",
   "nbconvert_exporter": "python",
   "pygments_lexer": "ipython3",
   "version": "3.11.9"
  }
 },
 "nbformat": 4,
 "nbformat_minor": 2
}
