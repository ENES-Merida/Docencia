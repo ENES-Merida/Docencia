{
 "cells": [
  {
   "cell_type": "markdown",
   "metadata": {},
   "source": [
    "<div style=\"text-align: center;\">\n",
    "    <img src=\"../images/iofbanner.png\" alt=\"Banner curso\" style=\"width:80%\">\n",
    "</div>"
   ]
  },
  {
   "cell_type": "code",
   "execution_count": 7,
   "metadata": {},
   "outputs": [],
   "source": [
    "import os\n",
    "import numpy as np\n",
    "import pandas as pd\n",
    "import matplotlib.pyplot as plt"
   ]
  },
  {
   "cell_type": "markdown",
   "metadata": {},
   "source": [
    "# Tema 3\n",
    "## Actividad Asincrónica 03 – Flujos de Calor\n",
    "\n",
    "Utiliza la ecuación completa de flujos de calor atmósfera-océano que se programó en clase para calcular los cambios de temperatura durante 24 hrs ocasionados por las siguientes combinaciones de condiciones:\n",
    "\n",
    "| Condición | $Q_5(1-a)$ | $Q_b$ | $Q_e$ | $Q_c$ |\n",
    "| :---: | :---: | :---: | :---: | :---: |\n",
    "| 1 | 240 | $n_c = 0$ | $W=15; T_a=40; H_R= 20%$ | $W=15; T_a=40; T_s=18$ |\n",
    "| 2 | 240 | $n_c = 0.4$ | $W=8; T_a=36; H_R= 95%$ | $W=8; T_a=36; T_s=30$ |\n",
    "| 3 | 100 | $n_c = 0.7$ | $W=8; T_a=36; H_R= 95%$ | $W=15; T_a=8; T_s=15$ |\n",
    "\n",
    "Donde $n_c$ es la proporción del cielo cubierta por nubes, $W$ la velocidad del viento en $m/s$, $T_a$ la temperatura del aire en $^\\circ C$, $H_R$ humedad relativa, $T_s$ temperatura de la superficie del mar en $^\\circ C$.  \n",
    "\n",
    "Escribe un informe breve con resumen, introducción, métodos, resultados-discusión y conclusiones, que no exceda 10 páginas ni sea menor a 4. Escribe tus resultados con base al tipo de ambiente que parece ser (desierto, zona tropical, etc) y el comportamiento de los procesos de transferencia de calor."
   ]
  },
  {
   "cell_type": "markdown",
   "metadata": {},
   "source": [
    "== Escribe tu informe aquí. =="
   ]
  },
  {
   "cell_type": "markdown",
   "metadata": {},
   "source": [
    "### Rutina para el cálculo de flujos de calor considerando todos los términos (ver clase 3.2 Influencias atmosféricas globales)\n"
   ]
  },
  {
   "cell_type": "code",
   "execution_count": 8,
   "metadata": {},
   "outputs": [],
   "source": [
    "# Condiciones de radiación de alta frecuencia Qs(1-A)\n",
    "A   = 0.3\n",
    "Qs1 = 340\n",
    "Qs  = Qs1 * (1-A)"
   ]
  },
  {
   "cell_type": "code",
   "execution_count": 9,
   "metadata": {},
   "outputs": [],
   "source": [
    "# Calculo de radiación retrotransmitida Qb\n",
    "es      = 0.985    # Valor de emisividad\n",
    "sigma   = 5.67e-8  # constante de Stephan en Wm-2K4\n",
    "Ts      = 30\n",
    "ncc      = 0.5\n",
    "Qb      = es * sigma * np.power((Ts+273), 4) * (1-0.6 * np.power(ncc, 2))"
   ]
  },
  {
   "cell_type": "code",
   "execution_count": 10,
   "metadata": {},
   "outputs": [],
   "source": [
    "# Calculo de flujo de calor por evaporación\n",
    "Lv      = 2.5e6     # Transferencia de calor latente\n",
    "Ce      = 1.5e-3    # Numero de Dalton\n",
    "rhoa    = 1.22      # kg/m^3 - densidad del aire\n",
    "W       = 15        # m/s - velocidad del viento\n",
    "Ta      = 36        # Temperatura del aire grados centígrados\n",
    "HR      = 95        # Humedad relativa en proporción 0-1"
   ]
  },
  {
   "cell_type": "code",
   "execution_count": 11,
   "metadata": {},
   "outputs": [],
   "source": [
    "# humedad específica de saturación  en kg/kg\n",
    "qs = (3.8951 * np.exp(0.0631 * Ta)) / 1000 # Ta en Celsius\n",
    "\n",
    "# humedad específica a partir de la humedad relativa y qs en kg/kg\n",
    "qa = (HR * qs) / 100"
   ]
  },
  {
   "cell_type": "code",
   "execution_count": 12,
   "metadata": {},
   "outputs": [],
   "source": [
    "# Cálculo de la evaporación \n",
    "Ev = rhoa * Ce * W * (qs-qa)\n",
    "Qe = Lv * Ev"
   ]
  },
  {
   "cell_type": "code",
   "execution_count": 13,
   "metadata": {},
   "outputs": [],
   "source": [
    "# Flujo de calor por conducción\n",
    "Cs = 1.45e-3    # Numero de Stanton\n",
    "ca = 1000       # Capacidad calorífica del aire\n",
    "Qc = Cs * ca * rhoa * W * (Ts-Ta)"
   ]
  },
  {
   "cell_type": "code",
   "execution_count": 14,
   "metadata": {},
   "outputs": [
    {
     "data": {
      "text/plain": [
       "<matplotlib.legend.Legend at 0x77339faab790>"
      ]
     },
     "execution_count": 14,
     "metadata": {},
     "output_type": "execute_result"
    },
    {
     "data": {
      "image/png": "[encoded data removed]",
      "text/plain": [
       "<Figure size 640x480 with 1 Axes>"
      ]
     },
     "metadata": {},
     "output_type": "display_data"
    }
   ],
   "source": [
    "# Balance sin advección\n",
    "Qi      = Qs - Qb - Qe - Qc\n",
    "\n",
    "cp      = 4000   # calor específico (capacidad calorífica) del agua de mar\n",
    "rhow    = 1025   # densidad del agua de mar\n",
    "z       = 10     # profundidad\n",
    "\n",
    "dTdt    = Qi / (rhow * cp * z)   # grados por segundo\n",
    "dTdia   = dTdt * 86400;\n",
    "\n",
    "# Gráfico de barras\n",
    "y       = np.array([-Qb, -Qe, -Qc])\n",
    "c       = pd.Categorical(['Qb','Qe','Qc'])\n",
    "\n",
    "colores = ['red', 'blue', 'green']\n",
    "labels = ['desierto', 'selva', 'lat media']\n",
    "plt.bar(c, y, label=labels, color=colores, alpha=0.7)\n",
    "plt.xlabel('Flujo')\n",
    "plt.ylabel('Valor')\n",
    "plt.title('Balance sin advección')\n",
    "plt.axhline(0, color='black',linewidth=0.5)\n",
    "plt.legend()"
   ]
  },
  {
   "cell_type": "code",
   "execution_count": 16,
   "metadata": {},
   "outputs": [
    {
     "data": {
      "text/plain": [
       "<matplotlib.lines.Line2D at 0x77339f199550>"
      ]
     },
     "execution_count": 16,
     "metadata": {},
     "output_type": "execute_result"
    },
    {
     "data": {
      "image/png": "[encoded data removed]",
      "text/plain": [
       "<Figure size 640x480 with 1 Axes>"
      ]
     },
     "metadata": {},
     "output_type": "display_data"
    }
   ],
   "source": [
    "# Radiación retrotransmitida al mar...por efecto invernadero\n",
    "sigma2  = 5.18e-13   # constante de Stephan en Wm-2K4\n",
    "Qb2     = sigma2 * (1+0.17 * (np.power(ncc, 2))) * np.power((Ta+273), 6)\n",
    "\n",
    "# Balance con invernadero Qb2\n",
    "Qi2     = Qs - Qb + Qb2 - Qe - Qc\n",
    "\n",
    "dT2     = Qi2 / (rhow * cp * z)\n",
    "dTdia2  = dT2 * 86400;\n",
    "\n",
    "y       = np.array([-Qb, Qb2, -Qe, -Qc])\n",
    "c       = pd.Categorical(['Qb','Qb2','Qe','Qc']);\n",
    "\n",
    "colores = ['red', 'yellow', 'blue', 'green']\n",
    "labels = ['desierto', 'EI', 'selva', 'lat media']\n",
    "plt.bar(c,y, label=labels, color=colores, alpha=0.7)\n",
    "plt.xlabel('Flujo')\n",
    "plt.ylabel('Valor')\n",
    "plt.title('Radiación retrotransmitida al mar...por efecto invernadero')\n",
    "plt.axhline(0, color='black',linewidth=0.5)"
   ]
  },
  {
   "cell_type": "code",
   "execution_count": 17,
   "metadata": {},
   "outputs": [
    {
     "data": {
      "text/plain": [
       "237.99999999999997"
      ]
     },
     "execution_count": 17,
     "metadata": {},
     "output_type": "execute_result"
    }
   ],
   "source": [
    "Qs"
   ]
  },
  {
   "cell_type": "code",
   "execution_count": 18,
   "metadata": {},
   "outputs": [
    {
     "data": {
      "text/plain": [
       "400.1370160249681"
      ]
     },
     "execution_count": 18,
     "metadata": {},
     "output_type": "execute_result"
    }
   ],
   "source": [
    "Qb"
   ]
  },
  {
   "cell_type": "code",
   "execution_count": 19,
   "metadata": {},
   "outputs": [
    {
     "data": {
      "text/plain": [
       "129.572941734839"
      ]
     },
     "execution_count": 19,
     "metadata": {},
     "output_type": "execute_result"
    }
   ],
   "source": [
    "Qe"
   ]
  },
  {
   "cell_type": "code",
   "execution_count": 20,
   "metadata": {},
   "outputs": [
    {
     "data": {
      "text/plain": [
       "-159.21"
      ]
     },
     "execution_count": 20,
     "metadata": {},
     "output_type": "execute_result"
    }
   ],
   "source": [
    "Qc"
   ]
  },
  {
   "cell_type": "code",
   "execution_count": 21,
   "metadata": {},
   "outputs": [
    {
     "data": {
      "text/plain": [
       "5.1829176693935594e-05"
      ]
     },
     "execution_count": 21,
     "metadata": {},
     "output_type": "execute_result"
    }
   ],
   "source": [
    "Ev"
   ]
  },
  {
   "cell_type": "code",
   "execution_count": null,
   "metadata": {},
   "outputs": [],
   "source": []
  }
 ],
 "metadata": {
  "kernelspec": {
   "display_name": "workbook_env",
   "language": "python",
   "name": "python3"
  },
  "language_info": {
   "codemirror_mode": {
    "name": "ipython",
    "version": 3
   },
   "file_extension": ".py",
   "mimetype": "text/x-python",
   "name": "python",
   "nbconvert_exporter": "python",
   "pygments_lexer": "ipython3",
   "version": "3.11.9"
  }
 },
 "nbformat": 4,
 "nbformat_minor": 2
}
