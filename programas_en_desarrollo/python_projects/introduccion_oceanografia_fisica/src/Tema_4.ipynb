{
 "cells": [
  {
   "cell_type": "markdown",
   "metadata": {},
   "source": [
    "<div style=\"text-align: center;\">\n",
    "    <img src=\"../images/iofbanner.png\" alt=\"Banner curso\" style=\"width:80%\">\n",
    "</div>"
   ]
  },
  {
   "cell_type": "code",
   "execution_count": 2,
   "metadata": {},
   "outputs": [],
   "source": [
    "import os\n",
    "import numpy as np\n",
    "import pandas as pd\n",
    "import matplotlib.pyplot as plt"
   ]
  },
  {
   "cell_type": "markdown",
   "metadata": {},
   "source": [
    "# Tema 4\n",
    "### Flujos Boyancia\n",
    "\n",
    "Utilizando la ecuación donde explícitamente se define en función de la evaporación."
   ]
  },
  {
   "cell_type": "code",
   "execution_count": 3,
   "metadata": {},
   "outputs": [],
   "source": [
    "g       = 9.81          # m/s^2\n",
    "Cw      = 4186          # calor específico del agua de mar (J/(kgC) \n",
    "alfa    = 2.9742e-4     # coeficiente de expansión térmica a 35 g/kg y 25C\n",
    "beta    = 7.347e-4      # coeficiente de contracción halina a 35 g/kg y 25C \n",
    "s       = 0.035"
   ]
  },
  {
   "cell_type": "code",
   "execution_count": 4,
   "metadata": {},
   "outputs": [
    {
     "ename": "NameError",
     "evalue": "name 'Qs' is not defined",
     "output_type": "error",
     "traceback": [
      "\u001b[0;31m---------------------------------------------------------------------------\u001b[0m",
      "\u001b[0;31mNameError\u001b[0m                                 Traceback (most recent call last)",
      "Cell \u001b[0;32mIn[4], line 2\u001b[0m\n\u001b[1;32m      1\u001b[0m \u001b[38;5;66;03m# Contribución de los flujos de calor\u001b[39;00m\n\u001b[0;32m----> 2\u001b[0m B1a \u001b[38;5;241m=\u001b[39m (\u001b[38;5;241m1\u001b[39m \u001b[38;5;241m/\u001b[39m Cw) \u001b[38;5;241m*\u001b[39m g \u001b[38;5;241m*\u001b[39m alfa \u001b[38;5;241m*\u001b[39m (Qs \u001b[38;5;241m-\u001b[39m Qb \u001b[38;5;241m-\u001b[39m Qc)\n\u001b[1;32m      3\u001b[0m B1b \u001b[38;5;241m=\u001b[39m (\u001b[38;5;241m1\u001b[39m \u001b[38;5;241m/\u001b[39m Cw) \u001b[38;5;241m*\u001b[39m g \u001b[38;5;241m*\u001b[39m alfa \u001b[38;5;241m*\u001b[39m (\u001b[38;5;241m-\u001b[39mQe)\n\u001b[1;32m      5\u001b[0m \u001b[38;5;66;03m# Contribución de la evaporación a la sal\u001b[39;00m\n",
      "\u001b[0;31mNameError\u001b[0m: name 'Qs' is not defined"
     ]
    }
   ],
   "source": [
    "# Contribución de los flujos de calor\n",
    "B1a = (1 / Cw) * g * alfa * (Qs - Qb - Qc)\n",
    "B1b = (1 / Cw) * g * alfa * (-Qe)\n",
    "\n",
    "# Contribución de la evaporación a la sal\n",
    "B2  = -g * beta * s * Ev"
   ]
  },
  {
   "cell_type": "code",
   "execution_count": 5,
   "metadata": {},
   "outputs": [
    {
     "ename": "NameError",
     "evalue": "name 'B1a' is not defined",
     "output_type": "error",
     "traceback": [
      "\u001b[0;31m---------------------------------------------------------------------------\u001b[0m",
      "\u001b[0;31mNameError\u001b[0m                                 Traceback (most recent call last)",
      "Cell \u001b[0;32mIn[5], line 6\u001b[0m\n\u001b[1;32m      4\u001b[0m s       \u001b[38;5;241m=\u001b[39m \u001b[38;5;241m0.035\u001b[39m\n\u001b[1;32m      5\u001b[0m B3      \u001b[38;5;241m=\u001b[39m g \u001b[38;5;241m*\u001b[39m beta \u001b[38;5;241m*\u001b[39ms \u001b[38;5;241m*\u001b[39m P\n\u001b[0;32m----> 6\u001b[0m B       \u001b[38;5;241m=\u001b[39m B1a \u001b[38;5;241m+\u001b[39m B1b \u001b[38;5;241m+\u001b[39m B2 \u001b[38;5;241m+\u001b[39m B3\n",
      "\u001b[0;31mNameError\u001b[0m: name 'B1a' is not defined"
     ]
    }
   ],
   "source": [
    "# Contribución de la precipitación\n",
    "P       = 0.0083    # 1 mm de lluvia = 1 lt/m^2 \n",
    "beta    = 7.347e-4  # coeficiente de expansión térmica a 35 g/kg y 25C \n",
    "s       = 0.035\n",
    "B3      = g * beta *s * P\n",
    "B       = B1a + B1b + B2 + B3;"
   ]
  },
  {
   "cell_type": "code",
   "execution_count": 6,
   "metadata": {},
   "outputs": [
    {
     "ename": "NameError",
     "evalue": "name 'B1a' is not defined",
     "output_type": "error",
     "traceback": [
      "\u001b[0;31m---------------------------------------------------------------------------\u001b[0m",
      "\u001b[0;31mNameError\u001b[0m                                 Traceback (most recent call last)",
      "Cell \u001b[0;32mIn[6], line 1\u001b[0m\n\u001b[0;32m----> 1\u001b[0m y   \u001b[38;5;241m=\u001b[39m np\u001b[38;5;241m.\u001b[39marray([B1a, B1b, B2, B3])\n\u001b[1;32m      2\u001b[0m c   \u001b[38;5;241m=\u001b[39m pd\u001b[38;5;241m.\u001b[39mCategorical([\u001b[38;5;124m'\u001b[39m\u001b[38;5;124mCalor\u001b[39m\u001b[38;5;124m'\u001b[39m,\u001b[38;5;124m'\u001b[39m\u001b[38;5;124mCalor E\u001b[39m\u001b[38;5;124m'\u001b[39m,\u001b[38;5;124m'\u001b[39m\u001b[38;5;124mEvap Sal\u001b[39m\u001b[38;5;124m'\u001b[39m, \u001b[38;5;124m'\u001b[39m\u001b[38;5;124mPrec\u001b[39m\u001b[38;5;124m'\u001b[39m]);\n\u001b[1;32m      3\u001b[0m colores \u001b[38;5;241m=\u001b[39m [\u001b[38;5;124m'\u001b[39m\u001b[38;5;124mred\u001b[39m\u001b[38;5;124m'\u001b[39m, \u001b[38;5;124m'\u001b[39m\u001b[38;5;124myellow\u001b[39m\u001b[38;5;124m'\u001b[39m, \u001b[38;5;124m'\u001b[39m\u001b[38;5;124mblue\u001b[39m\u001b[38;5;124m'\u001b[39m, \u001b[38;5;124m'\u001b[39m\u001b[38;5;124mgreen\u001b[39m\u001b[38;5;124m'\u001b[39m]\n",
      "\u001b[0;31mNameError\u001b[0m: name 'B1a' is not defined"
     ]
    }
   ],
   "source": [
    "y   = np.array([B1a, B1b, B2, B3])\n",
    "c   = pd.Categorical(['Calor','Calor E','Evap Sal', 'Prec']);\n",
    "colores = ['red', 'yellow', 'blue', 'green']\n",
    "labels = ['Calor','Calor E','Evap Sal', 'Prec']\n",
    "plt.bar(c,y, label=labels, color=colores, alpha=0.7)\n",
    "plt.xlabel('Flujo')\n",
    "plt.ylabel('Valor')\n",
    "plt.title('Flujos Boyancia')\n",
    "plt.axhline(0, color='black',linewidth=0.5)\n",
    "plt.legend()\n",
    "plt.show()"
   ]
  },
  {
   "cell_type": "code",
   "execution_count": null,
   "metadata": {},
   "outputs": [],
   "source": []
  }
 ],
 "metadata": {
  "kernelspec": {
   "display_name": "workbook_env",
   "language": "python",
   "name": "python3"
  },
  "language_info": {
   "codemirror_mode": {
    "name": "ipython",
    "version": 3
   },
   "file_extension": ".py",
   "mimetype": "text/x-python",
   "name": "python",
   "nbconvert_exporter": "python",
   "pygments_lexer": "ipython3",
   "version": "3.11.9"
  }
 },
 "nbformat": 4,
 "nbformat_minor": 2
}
