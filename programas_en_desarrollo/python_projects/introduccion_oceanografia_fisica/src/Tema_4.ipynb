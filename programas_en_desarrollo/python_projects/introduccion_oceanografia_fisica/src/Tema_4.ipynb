{
 "cells": [
  {
   "cell_type": "markdown",
   "metadata": {},
   "source": [
    "<div style=\"text-align: center;\">\n",
    "    <img src=\"../images/iofbanner.png\" alt=\"Banner curso\" style=\"width:80%\">\n",
    "</div>"
   ]
  },
  {
   "cell_type": "code",
   "execution_count": 1,
   "metadata": {},
   "outputs": [],
   "source": [
    "import os\n",
    "import numpy as np\n",
    "import pandas as pd\n",
    "import matplotlib.pyplot as plt"
   ]
  },
  {
   "cell_type": "markdown",
   "metadata": {},
   "source": [
    "# Tema 4\n",
    "### Flujos Boyancia\n",
    "\n",
    "Utilizando la ecuación donde explícitamente se define en función de la evaporación."
   ]
  },
  {
   "cell_type": "code",
   "execution_count": 2,
   "metadata": {},
   "outputs": [],
   "source": [
    "g       = 9.81          # m/s^2\n",
    "Cw      = 4186          # calor específico del agua de mar (J/(kgC) \n",
    "alfa    = 2.9742e-4     # coeficiente de expansión térmica a 35 g/kg y 25C\n",
    "beta    = 7.347e-4      # coeficiente de contracción halina a 35 g/kg y 25C \n",
    "s       = 0.035"
   ]
  },
  {
   "cell_type": "code",
   "execution_count": 5,
   "metadata": {},
   "outputs": [],
   "source": [
    "Qs = 237.99999999999997\n",
    "Qb = 400.1370160249681\n",
    "Qc = -159.21\n",
    "Qe = 129.572941734839\n",
    "Ev = 5.1829176693935594e-05"
   ]
  },
  {
   "cell_type": "code",
   "execution_count": 6,
   "metadata": {},
   "outputs": [],
   "source": [
    "# Contribución de los flujos de calor\n",
    "B1a = (1 / Cw) * g * alfa * (Qs - Qb - Qc)\n",
    "B1b = (1 / Cw) * g * alfa * (-Qe)\n",
    "\n",
    "# Contribución de la evaporación a la sal\n",
    "B2  = -g * beta * s * Ev"
   ]
  },
  {
   "cell_type": "code",
   "execution_count": 7,
   "metadata": {},
   "outputs": [],
   "source": [
    "# Contribución de la precipitación\n",
    "P       = 0.0083    # 1 mm de lluvia = 1 lt/m^2 \n",
    "beta    = 7.347e-4  # coeficiente de expansión térmica a 35 g/kg y 25C \n",
    "s       = 0.035\n",
    "B3      = g * beta *s * P\n",
    "B       = B1a + B1b + B2 + B3;"
   ]
  },
  {
   "cell_type": "code",
   "execution_count": 8,
   "metadata": {},
   "outputs": [
    {
     "data": {
      "image/png": "[encoded data removed]",
      "text/plain": [
       "<Figure size 640x480 with 1 Axes>"
      ]
     },
     "metadata": {},
     "output_type": "display_data"
    }
   ],
   "source": [
    "y   = np.array([B1a, B1b, B2, B3])\n",
    "c   = pd.Categorical(['Calor','Calor E','Evap Sal', 'Prec']);\n",
    "colores = ['red', 'yellow', 'blue', 'green']\n",
    "labels = ['Calor','Calor E','Evap Sal', 'Prec']\n",
    "plt.bar(c,y, label=labels, color=colores, alpha=0.7)\n",
    "plt.xlabel('Flujo')\n",
    "plt.ylabel('Valor')\n",
    "plt.title('Flujos Boyancia')\n",
    "plt.axhline(0, color='black',linewidth=0.5)\n",
    "plt.legend()\n",
    "plt.show()"
   ]
  },
  {
   "cell_type": "code",
   "execution_count": null,
   "metadata": {},
   "outputs": [],
   "source": []
  }
 ],
 "metadata": {
  "kernelspec": {
   "display_name": "workbook_env",
   "language": "python",
   "name": "python3"
  },
  "language_info": {
   "codemirror_mode": {
    "name": "ipython",
    "version": 3
   },
   "file_extension": ".py",
   "mimetype": "text/x-python",
   "name": "python",
   "nbconvert_exporter": "python",
   "pygments_lexer": "ipython3",
   "version": "3.11.9"
  }
 },
 "nbformat": 4,
 "nbformat_minor": 2
}
