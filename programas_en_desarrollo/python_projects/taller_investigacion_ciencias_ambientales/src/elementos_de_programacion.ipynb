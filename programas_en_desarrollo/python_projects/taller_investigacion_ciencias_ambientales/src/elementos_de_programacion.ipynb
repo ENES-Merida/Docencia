{
 "cells": [
  {
   "cell_type": "markdown",
   "metadata": {},
   "source": [
    "<div style=\"text-align: center;\">\n",
    "    <img src=\"../images/banner.png\" alt=\"Banner curso\" style=\"width:80%\">\n",
    "</div>"
   ]
  },
  {
   "cell_type": "markdown",
   "metadata": {},
   "source": [
    "<div style=\"display: flex; justify-content: center;\">\n",
    "    <h1>Elementos de Programación</h1>\n",
    "</div>\n",
    "\n",
    "## Temario\n",
    "\n",
    "1. Conceptos Fundamentales de los lenguajes de programación  \n",
    "\n",
    "    + Breve introducción a los lenguajes de programación.\n",
    "    + Tipos de datos: enteros, decimales, lógicas y cadenas.\n",
    "    + Declaración, asignación e inicialización.\n",
    "    + Convenciones y palabras reservadas.\n",
    "    +Tipado: estático vs dinámico\n",
    "\n",
    "2. Operadores\n",
    "\n",
    "    + Operadores aritméticos y orden de precedencia.\n",
    "    + Operadores de Asignación.\n",
    "    + Operadores de incremento y decremento.\n",
    "    + Operadores de relación e igualdad.\n",
    "    + Operadores lógicos.\n",
    "\n",
    "3. Estructuras de control\n",
    "\n",
    "    + Estructura secuencial.\n",
    "    + Estructura selectiva.\n",
    "    + Estructura iterativa.\n",
    "\n",
    "4. Funciones\n",
    "\n",
    "    + Declaración y llamados de funciones\n",
    "    + Párametros y argumentos.\n",
    "    + Paso de argumentos por valor y referencia.\n",
    "\n",
    "5. Estructura de datos\n",
    "\n",
    "    + Tipos de estructura de datos..\n",
    "    + Arreglos unidimensiones y bidimensionales: declaración y manipulación."
   ]
  },
  {
   "cell_type": "markdown",
   "metadata": {},
   "source": [
    "### 1. Conceptos Fundamentales de los lenguajes de programación\n",
    "\n",
    "#### Breve introducción a los lenguajes de programación.\n",
    "\n",
    "Un lenguaje de programación es un sistema formal de comunicación diseñado para expresar instrucciones que pueden ser entendidas y ejecutadas por una computadora. Estos lenguajes permiten a los programadores escribir programas, que son conjuntos de instrucciones que dictan cómo una máquina debe comportarse o realizar tareas específicas.\n"
   ]
  },
  {
   "cell_type": "markdown",
   "metadata": {},
   "source": [
    "__Características Clave de un Lenguaje de Programación:__\n",
    "\n",
    "- Sintaxis:\n",
    "\n",
    "La sintaxis de un lenguaje de programación se refiere a las reglas y estructuras que se utilizan para escribir el código, siendo equivalente a las reglas gramaticales y de redacción que rigen a cada idioma. \n",
    "\n",
    "Por ejemplo, la sintaxis para definir una función en Python es diferente a la de Java:\n",
    "```python\n",
    "    # Sintaxis Python\n",
    "    def suma(a, b):\n",
    "        return a + b\n",
    "```\n",
    "```java\n",
    "    // Sintaxis Java\n",
    "    public int suma(int a, int b) {\n",
    "        return a + b;\n",
    "    }\n",
    "```\n",
    "- Semántica:\n",
    "\n",
    "La semántica en programación se refiere al significado de nuestras instrucciones en un lenguaje de programación. Es lo que determina cómo se deben interpretar y ejecutar nuestras acciones en el mundo digital.\n"
   ]
  },
  {
   "cell_type": "code",
   "execution_count": 1,
   "metadata": {},
   "outputs": [
    {
     "name": "stdout",
     "output_type": "stream",
     "text": [
      "8\n"
     ]
    }
   ],
   "source": [
    "numero_1 = 5 \n",
    "numero_2 = 3 \n",
    "resultado = numero_1 + numero_2 \n",
    "print(resultado)"
   ]
  },
  {
   "cell_type": "code",
   "execution_count": 2,
   "metadata": {},
   "outputs": [
    {
     "ename": "TypeError",
     "evalue": "can only concatenate str (not \"int\") to str",
     "output_type": "error",
     "traceback": [
      "\u001b[0;31m---------------------------------------------------------------------------\u001b[0m",
      "\u001b[0;31mTypeError\u001b[0m                                 Traceback (most recent call last)",
      "Cell \u001b[0;32mIn[2], line 3\u001b[0m\n\u001b[1;32m      1\u001b[0m cadena_1 \u001b[38;5;241m=\u001b[39m \u001b[38;5;124m\"\u001b[39m\u001b[38;5;124mChicos de ambientales\u001b[39m\u001b[38;5;124m\"\u001b[39m\n\u001b[1;32m      2\u001b[0m numero_1 \u001b[38;5;241m=\u001b[39m \u001b[38;5;241m12\u001b[39m\n\u001b[0;32m----> 3\u001b[0m resultado \u001b[38;5;241m=\u001b[39m \u001b[43mcadena_1\u001b[49m\u001b[43m \u001b[49m\u001b[38;5;241;43m+\u001b[39;49m\u001b[43m \u001b[49m\u001b[43mnumero_1\u001b[49m\n\u001b[1;32m      4\u001b[0m \u001b[38;5;28mprint\u001b[39m(resultado)\n",
      "\u001b[0;31mTypeError\u001b[0m: can only concatenate str (not \"int\") to str"
     ]
    }
   ],
   "source": [
    "cadena_1 = \"Chicos de ambientales\"\n",
    "numero_1 = 12\n",
    "resultado = cadena_1 + numero_1\n",
    "print(resultado)"
   ]
  },
  {
   "cell_type": "markdown",
   "metadata": {},
   "source": [
    "- Abstracción:\n",
    "\n",
    "Los lenguajes de programación proporcionan varios niveles de abstracción para facilitar la programación. Lenguajes de bajo nivel como el ensamblador están más cerca del lenguaje máquina, mientras que lenguajes de alto nivel como Python o Java abstraen detalles complejos del hardware."
   ]
  },
  {
   "cell_type": "markdown",
   "metadata": {},
   "source": [
    "__Paradigmas de Programación o estilos de programación:__\n",
    "\n",
    "- Programación imperativa: Especifica una secuencia de operaciones para realizar una tarea.\n",
    "\n",
    "- Programación declarativa: Describe qué se debe hacer, no cómo hacerlo.\n",
    "\n",
    "- Programación orientada a objetos: Organiza el código en objetos que tienen propiedades y comportamientos.\n",
    "\n",
    "- Programación funcional: Trata la computación como la evaluación de funciones matemáticas.\n"
   ]
  },
  {
   "cell_type": "markdown",
   "metadata": {},
   "source": [
    "__Tipos de Lenguajes de Programación__\n",
    "\n",
    "- Lenguajes de bajo nivel:\n",
    "\n",
    "    Un lenguaje de programación de bajo nivel proporciona poca o ninguna abstracción de la arquitectura del sistema del ordenador, es decir, se escribe código que es estructuralmente parecido a las instrucciones del procesador. Mayormente, con este término se refiere al código máquina y/o al lenguaje ensamblador.\n",
    "\n",
    "- Lenguajes de alto nivel:\n",
    "\n",
    "    Un lenguaje de programación de alto nivel proporciona una gran abstracción entre el lenguaje de la máquina y el lenguaje humano, siendo mucho más fácil de leer, escribir y/o automatizar, ya que oculta detalles del sistema del ordenador para ejecutarlos tras el telón, como por ejemplo, la gestión de la memoria.\n"
   ]
  },
  {
   "cell_type": "markdown",
   "metadata": {},
   "source": [
    "__El proceso de programación__\n",
    "\n",
    "> La programación es un proceso de resolución de problemas. Para resolver estos problemas se requieren técnicas diferentes que comprenden desde el análisis del problema, especificación de requisitos o requerimientos y las etapas de diseño denominadas algoritmos.\n",
    "\n",
    "La elección del lenguaje de programación puede depender de muchos factores, incluyendo el dominio de aplicación, las preferencias personales, el rendimiento requerido y la comunidad de soporte disponible."
   ]
  },
  {
   "cell_type": "markdown",
   "metadata": {},
   "source": [
    "__Lenguajes de Programación Compilados__\n",
    "\n",
    "El mundo como lo conocemos depende de los lenguajes de programación debido a que el software que utilizamos en nuestra vida diaria ha sido escrito en alguno de ellos. Pero los programas escritos para que puedan ser ejecutados antes necesitan ser traducidos al lenguaje de la computadora para que esta entienda que tiene que hacer.\n",
    "\n",
    "El proceso de traducción se le conoce como __compilación__ y al software usado para traducir se le llama _compilador_ o _interprete_, según sea el caso.\n",
    "\n",
    "Un __compilador__ traduce el código de un lenguaje de programación de alto nivel a código máquina antes de que el programa se ejecute. Una función importante del compilador es informar de cualquier error en el programa fuente que detecte durante el proceso de traducción.\n",
    "\n",
    "Un __intérprete__ traduce el código escrito en un lenguaje de programación de alto nivel a código máquina línea por línea a medida que se ejecuta el código. En caso de detectar un error mientras se ejecuta, interrumpe el programa y muestra información acerca del este."
   ]
  },
  {
   "cell_type": "markdown",
   "metadata": {},
   "source": [
    "#### Lenguaje de Programación Python\n",
    "\n",
    "_Python_ es un lenguaje de programación de alto nivel que ha ganado una gran popularidad debido a su versatilidad, facilidad de uso y amplia gama de bibliotecas. Entre las principales ventajas de usar Python se encuentran:\n",
    "\n",
    "1. Sintaxis clara y legible.\n",
    "\n",
    "2. Gran comunidad y soporte.\n",
    "\n",
    "3. Versatilidad y portabilidad.\n",
    "\n",
    "4. Amplia gama de bibliotecas y frameworks.\n",
    "\n",
    "5. Código rápido y eficiente.\n",
    "\n",
    "6. Código robusto y escalable.\n",
    "\n",
    "7. Facilidad de aprendizaje.\n",
    "\n",
    "8. Amplia gama de aplicaciones:\n",
    "\n",
    "    - Análisis de datos y ciencia de datos\n",
    "    - Aprendizaje automático e inteligencia artificial\n",
    "    - Desarrollo web y aplicaciones web\n",
    "    - Desarrollo de escritorio\n",
    "    - Automatización de tareas\n",
    "    - Scripting y administración de sistemas\n",
    "    - Desarrollo de juegos\n",
    "    - Visualización de datos"
   ]
  },
  {
   "cell_type": "markdown",
   "metadata": {},
   "source": [
    "#### Tipos de datos.\n",
    "\n",
    "\n",
    "Los tipos de datos son la base fundamental para organizar y manipular la información en los lenguajes de programación. Cierto tipo de dato define el tipo de valor que se puede manejar y las operaciones que se pueden realizar con ese tipo de dato.\n",
    "\n",
    "En general, los tipos de datos se pueden clasificar en dos categorías principales:\n",
    "\n",
    "1. Tipos de datos primitivos:\n",
    "\n",
    "Los tipos de datos primitivos son los tipos de datos más básicos que ofrece un lenguaje de programación. Son indivisibles y solo pueden almacenar un único valor. Los tipos de datos primitivos más comunes incluyen:\n",
    "\n",
    "- _Enteros_: Números enteros positivos, negativos o cero. Ejemplos: ```1, -10, 0```.\n",
    "\n",
    "- _Reales_: Números con punto decimal. Ejemplos: ```3.14, -5.2, 10.0```.\n",
    "\n",
    "- _Caracteres_: Representan un único símbolo o letra. Ejemplos: ```'a', 'B', '$'```.\n",
    "\n",
    "- _Cadenas de caracteres_: Secuencias de caracteres. Ejemplos: ```\"Hola mundo\", \"Python es genial\", \"42\"```.\n",
    "\n",
    "- _Booleanos_: Valores de verdad o falso. Ejemplos: ```True, False```.\n",
    "\n",
    "2. Tipos de datos estructurados (los veremos más adelante)."
   ]
  },
  {
   "cell_type": "markdown",
   "metadata": {},
   "source": [
    "#### Variables: declaración, asignación e inicialización\n",
    "\n",
    "Una *variable* es como un contenedor de datos que tiene un _nombre_ y un _valor_. El nombre de la variable se utiliza para referirse al valor almacenado en el contenedor. El valor de la variable puede cambiar durante la ejecución del programa.\n",
    "\n",
    "Las variables se utilizan para almacenar y manipular datos de diferentes tipos, ya sean primitivos o estructurados. Son esenciales para escribir código organizado y reutilizable, ya que permiten evitar la repetición de código y hacen que el programa sea más fácil de leer y entender.\n",
    "\n",
    "Características principales de las variables:\n",
    "\n",
    "- _Nombre_: Un identificador único que se utiliza para referirse a la variable.\n",
    "\n",
    "- _Tipo de dato_: El tipo de dato que la variable puede almacenar.\n",
    "\n",
    "- _Valor_: El dato actual almacenado en la variable.\n",
    "\n",
    "- _Alcance_: La parte del programa donde la variable es visible y accesible.\n"
   ]
  },
  {
   "cell_type": "markdown",
   "metadata": {},
   "source": [
    "Declaración de una variable:\n",
    "\n",
    "La declaración de una variable consiste en definir un nombre para la variable y especificar el tipo de dato que puede almacenar. Esto se hace utilizando una instrucción de declaración de variables, la cual varía según el lenguaje de programación que se esté utilizando."
   ]
  },
  {
   "cell_type": "code",
   "execution_count": 3,
   "metadata": {},
   "outputs": [],
   "source": [
    "# Declaración de una variable entera\n",
    "mi_variable_entera: int\n",
    "\n",
    "# Declaración de una variable decimal\n",
    "mi_variable_decimal: float\n",
    "\n",
    "# Declaración de una variable de caracter o cadena de caracteres\n",
    "mi_variable_cadena_char: str\n",
    "\n",
    "# Declaración de una variable booleana\n",
    "mi_variable_booleana: bool"
   ]
  },
  {
   "cell_type": "markdown",
   "metadata": {},
   "source": [
    "Asignación de una variable:\n",
    "\n",
    "La asignación de una variable consiste en atribuir un valor a la variable previamente declarada. Esto se hace utilizando el operador de asignación ```=``` seguido del valor que se quiere asignar."
   ]
  },
  {
   "cell_type": "code",
   "execution_count": 4,
   "metadata": {},
   "outputs": [],
   "source": [
    "# Asignación de un valor a la variable entera\n",
    "mi_variable_entera = 10\n",
    "\n",
    "# Asignación de un valor a la variable decimal\n",
    "mi_variable_decimal = 3.1416\n",
    "\n",
    "# Asignación de un valor a la variable de cadena de caracteres\n",
    "mi_variable_cadena_char = \"Hola chicos de ambientales\"\n",
    "\n",
    "# Asignación de un valor a la variable booleana\n",
    "mi_variable_booleana = True\n"
   ]
  },
  {
   "cell_type": "markdown",
   "metadata": {},
   "source": [
    "Inicialización de una variable:\n",
    "\n",
    "La inicialización de una variable es el proceso de asignar un valor a la variable al mismo tiempo que se declara. Esto se puede hacer en la misma instrucción de declaración de la variable."
   ]
  },
  {
   "cell_type": "markdown",
   "metadata": {},
   "source": [
    "El snake case, también conocido como lowercase_with_underscores, es una convención de nomenclatura utilizada en programación para nombrar variables, funciones y archivos. Consiste en escribir las palabras en minúsculas separadas por guiones bajos (_).\n",
    "\n",
    "Características principales del snake case:\n",
    "\n",
    "Mejora la legibilidad: Al separar las palabras con guiones bajos, los nombres de variables largos son más fáciles de leer y comprender.\n",
    "Consistencia: Usar snake case de manera consistente en todo tu código mejora la mantenibilidad del código y facilita que otros programadores lo entiendan.\n",
    "Convención común: Snake case es una convención ampliamente utilizada en Python y muchos otros lenguajes de programación.\n",
    "Ejemplos de snake case:\n",
    "\n",
    "nombre_primero\n",
    "ventas_totales\n",
    "calcular_promedio\n",
    "archivo_entrada_usuario.txt\n",
    "Beneficios de usar snake case:\n",
    "\n",
    "Claridad: Snake case hace que el código sea más fácil de leer y comprender, especialmente para nombres de variables largos.\n",
    "Consistencia: Usar una convención de nomenclatura consistente mejora la mantenibilidad y la colaboración del código.\n",
    "Estándar: Snake case es una convención ampliamente utilizada, lo que hace que el código sea más familiar para otros programadores.\n",
    "Cuándo usar snake case:\n",
    "\n",
    "En Python, snake case es la convención de nomenclatura preferida para variables, funciones y módulos.\n",
    "También se usa comúnmente para nombres de archivos, nombres de tablas y columnas de bases de datos y otros elementos de programación."
   ]
  },
  {
   "cell_type": "code",
   "execution_count": 7,
   "metadata": {},
   "outputs": [
    {
     "data": {
      "text/plain": [
       "int"
      ]
     },
     "execution_count": 7,
     "metadata": {},
     "output_type": "execute_result"
    }
   ],
   "source": [
    "er: int = 45\n",
    "type(er)"
   ]
  },
  {
   "cell_type": "code",
   "execution_count": 8,
   "metadata": {},
   "outputs": [
    {
     "data": {
      "text/plain": [
       "str"
      ]
     },
     "execution_count": 8,
     "metadata": {},
     "output_type": "execute_result"
    }
   ],
   "source": [
    "er = \"Hola\"\n",
    "type(er)"
   ]
  }
 ],
 "metadata": {
  "kernelspec": {
   "display_name": "workbook_env",
   "language": "python",
   "name": "python3"
  },
  "language_info": {
   "codemirror_mode": {
    "name": "ipython",
    "version": 3
   },
   "file_extension": ".py",
   "mimetype": "text/x-python",
   "name": "python",
   "nbconvert_exporter": "python",
   "pygments_lexer": "ipython3",
   "version": "3.10.14"
  }
 },
 "nbformat": 4,
 "nbformat_minor": 2
}
