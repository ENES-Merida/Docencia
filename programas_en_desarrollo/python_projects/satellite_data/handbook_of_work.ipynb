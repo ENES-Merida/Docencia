{
 "cells": [
  {
   "cell_type": "code",
   "execution_count": 1,
   "metadata": {},
   "outputs": [],
   "source": [
    "import re\n",
    "from datetime import datetime"
   ]
  },
  {
   "cell_type": "code",
   "execution_count": 2,
   "metadata": {},
   "outputs": [],
   "source": [
    "# Read the contents of the file\n",
    "input_filename = \"Track.txt\"\n",
    "with open(input_filename, \"r\") as file:\n",
    "    file_content = file.read()"
   ]
  },
  {
   "cell_type": "code",
   "execution_count": 3,
   "metadata": {},
   "outputs": [],
   "source": [
    "# Replace \"a. m.\" with \"AM\" and \"p. m.\" with \"PM\"\n",
    "file_content = re.sub(r\"[a]\\. [m]\\.\", \"AM\", file_content)\n",
    "file_content = re.sub(r\"[p]\\. [m]\\.\", \"PM\", file_content)"
   ]
  },
  {
   "cell_type": "code",
   "execution_count": 6,
   "metadata": {},
   "outputs": [
    {
     "name": "stdout",
     "output_type": "stream",
     "text": [
      "\n",
      "Date, time, latitude and longitude strings found!\n"
     ]
    }
   ],
   "source": [
    "# Search for date, time, latitude and longitude strings using regular expressions\n",
    "date_time_pattern = r\"(\\d{2}/\\d{2}/\\d{4} \\d{2}:\\d{2}:\\d{2} [AP][M])\"\n",
    "coordinate_pattern = r\"N(\\d+\\.\\d+) W(\\d+\\.\\d+)\"\n",
    "date_time_matches = re.findall(date_time_pattern, file_content)\n",
    "coordinate_matches = re.findall(coordinate_pattern, file_content)\n",
    "print(\"\\nDate, time, latitude and longitude strings found!\")"
   ]
  },
  {
   "cell_type": "code",
   "execution_count": 8,
   "metadata": {},
   "outputs": [],
   "source": [
    "# Write the results to a new file\n",
    "output_filename = \"clean_satellite_data.txt\"\n",
    "with open(output_filename, \"w\") as file:\n",
    "    for i in range(len(date_time_matches)):\n",
    "        date_time = date_time_matches[i]\n",
    "        coordinate = coordinate_matches[i]\n",
    "        latitude = coordinate[0]\n",
    "        longitude = coordinate[1]\n",
    "        # Convert 12-hour clock to 24-hour clock\n",
    "        date_time_24h = datetime.strptime(date_time, \"%d/%m/%Y %I:%M:%S %p\").strftime(\"%d/%m/%Y %H:%M:%S\")\n",
    "        file.write(f\"{date_time_24h}, {latitude}, {longitude}\\n\")"
   ]
  }
 ],
 "metadata": {
  "kernelspec": {
   "display_name": "Python 3",
   "language": "python",
   "name": "python3"
  },
  "language_info": {
   "codemirror_mode": {
    "name": "ipython",
    "version": 3
   },
   "file_extension": ".py",
   "mimetype": "text/x-python",
   "name": "python",
   "nbconvert_exporter": "python",
   "pygments_lexer": "ipython3",
   "version": "3.11.5"
  }
 },
 "nbformat": 4,
 "nbformat_minor": 2
}
