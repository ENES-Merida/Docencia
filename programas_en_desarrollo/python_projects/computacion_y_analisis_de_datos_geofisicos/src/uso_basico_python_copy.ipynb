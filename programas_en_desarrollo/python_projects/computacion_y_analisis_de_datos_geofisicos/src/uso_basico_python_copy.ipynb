{
 "cells": [
  {
   "cell_type": "markdown",
   "metadata": {},
   "source": [
    "<div style=\"text-align: center;\">\n",
    "    <img src=\"../images/CADGbanner.png\" alt=\"Banner curso\" style=\"width:80%\">\n",
    "</div>"
   ]
  },
  {
   "cell_type": "code",
   "execution_count": 1,
   "metadata": {},
   "outputs": [],
   "source": [
    "import numpy as np"
   ]
  },
  {
   "cell_type": "markdown",
   "metadata": {},
   "source": [
    "### Operaciones aritméticas"
   ]
  },
  {
   "cell_type": "code",
   "execution_count": 8,
   "metadata": {},
   "outputs": [
    {
     "data": {
      "text/plain": [
       "50"
      ]
     },
     "execution_count": 8,
     "metadata": {},
     "output_type": "execute_result"
    }
   ],
   "source": [
    "20+30 # Orden de evaluación"
   ]
  },
  {
   "cell_type": "code",
   "execution_count": 13,
   "metadata": {},
   "outputs": [
    {
     "name": "stdout",
     "output_type": "stream",
     "text": [
      "El valor de c = 50\n"
     ]
    }
   ],
   "source": [
    "a = 20; b = 30\n",
    "c = a + b\n",
    "print(f\"El valor de c = {c}\")"
   ]
  },
  {
   "cell_type": "markdown",
   "metadata": {},
   "source": [
    "### Trigonométricas"
   ]
  },
  {
   "cell_type": "code",
   "execution_count": 21,
   "metadata": {},
   "outputs": [
    {
     "name": "stdout",
     "output_type": "stream",
     "text": [
      "El sen(1.57) = 1.0\n"
     ]
    }
   ],
   "source": [
    "lat = 90 * (np.pi / 180)\n",
    "result = np.sin(lat)\n",
    "print(f\"El sen({lat:.2f}) = {result}\")"
   ]
  },
  {
   "cell_type": "code",
   "execution_count": 34,
   "metadata": {},
   "outputs": [
    {
     "name": "stdout",
     "output_type": "stream",
     "text": [
      "El valor de T1 = 62.6754\n",
      "El valor de T2 = 62.6754\n",
      "El valor de T3 = 69.0725\n",
      "El valor de T4 = 30.6754\n"
     ]
    }
   ],
   "source": [
    "A = 10; B = 20; C = 30; D = 40\n",
    "\n",
    "T1 = A + 3 * B - 2 * np.sin(C * np.pi / 180) - np.sqrt(D)\n",
    "T2 = A + 3 * B - 2 * np.sin(C * (np.pi / 180)) - np.sqrt(D)\n",
    "T3 = A + 3 * B - 2 * np.sin((C * (np.pi / 180)) - np.sqrt(D))\n",
    "T4 = A + 3 * (B - 2) * np.sin(C * np.pi / 180) - np.sqrt(D)\n",
    "\n",
    "print(f\"El valor de T1 = {T1:.4f}\")\n",
    "print(f\"El valor de T2 = {T2:.4f}\")\n",
    "print(f\"El valor de T3 = {T3:.4f}\")\n",
    "print(f\"El valor de T4 = {T4:.4f}\")"
   ]
  },
  {
   "cell_type": "markdown",
   "metadata": {},
   "source": [
    "### Tipos de datos y formatos de datos en Python\n",
    "\n",
    "Formatos numéricos: ```float``` de 64 bits.\n",
    "Python utiliza el formato IEEE 754 de doble precisión que utiliza 64 bits (8 bytes) para almacenar números de punto flotante.\n",
    "\n",
    "### Vectores\n",
    "m o n = 1"
   ]
  },
  {
   "cell_type": "code",
   "execution_count": 62,
   "metadata": {},
   "outputs": [
    {
     "name": "stdout",
     "output_type": "stream",
     "text": [
      "El vector v1 = [10 20 30]\n",
      "El vector v2 = [10 20 30]\n",
      "El vector v3 = [[10]\n",
      " [20]\n",
      " [30]]\n"
     ]
    }
   ],
   "source": [
    "v1 = np.array([10, 20, 30]); v2 = np.array([10, 20, 30])    # vectores renglones\n",
    "v3 = np.array([[10], [20], [30]])                           # vectores columnas\n",
    "print(f\"El vector v1 = {v1}\")\n",
    "print(f\"El vector v2 = {v2}\")\n",
    "print(f\"El vector v3 = {v3}\")"
   ]
  },
  {
   "cell_type": "code",
   "execution_count": 86,
   "metadata": {},
   "outputs": [
    {
     "name": "stdout",
     "output_type": "stream",
     "text": [
      "vector x1 = [0.0000e+00 1.0000e-02 2.0000e-02 ... 9.9998e+02 9.9999e+02 1.0000e+03]\n",
      "vector x2 = [0.0000e+00 1.0000e-02 2.0000e-02 ... 9.9998e+02 9.9999e+02 1.0000e+03]\n"
     ]
    }
   ],
   "source": [
    "x1 = np.arange(0, 1000.01, 0.01)    # Secuencia de valores: 0:0.01:1000\n",
    "x2 = np.arange(0, 1.00001e3, 1e-2)  # usando notación científica\n",
    "print(f\"vector x1 = {x1}\")\n",
    "print(f\"vector x2 = {x2}\")"
   ]
  },
  {
   "cell_type": "markdown",
   "metadata": {},
   "source": [
    "### Definir matrices aleatorias y mágicas"
   ]
  },
  {
   "cell_type": "code",
   "execution_count": 94,
   "metadata": {},
   "outputs": [
    {
     "ename": "AttributeError",
     "evalue": "module 'numpy' has no attribute 'magic'",
     "output_type": "error",
     "traceback": [
      "\u001b[0;31m---------------------------------------------------------------------------\u001b[0m",
      "\u001b[0;31mAttributeError\u001b[0m                            Traceback (most recent call last)",
      "Cell \u001b[0;32mIn[94], line 2\u001b[0m\n\u001b[1;32m      1\u001b[0m E1 \u001b[38;5;241m=\u001b[39m np\u001b[38;5;241m.\u001b[39mrandom\u001b[38;5;241m.\u001b[39mrand(\u001b[38;5;241m5\u001b[39m,\u001b[38;5;241m5\u001b[39m)\n\u001b[0;32m----> 2\u001b[0m F1 \u001b[38;5;241m=\u001b[39m \u001b[43mnp\u001b[49m\u001b[38;5;241;43m.\u001b[39;49m\u001b[43mmagic\u001b[49m(\u001b[38;5;241m5\u001b[39m)\n",
      "File \u001b[0;32m~/anaconda3/envs/workbook_env/lib/python3.10/site-packages/numpy/__init__.py:333\u001b[0m, in \u001b[0;36m__getattr__\u001b[0;34m(attr)\u001b[0m\n\u001b[1;32m    330\u001b[0m     \u001b[38;5;124m\"\u001b[39m\u001b[38;5;124mRemoved in NumPy 1.25.0\u001b[39m\u001b[38;5;124m\"\u001b[39m\n\u001b[1;32m    331\u001b[0m     \u001b[38;5;28;01mraise\u001b[39;00m \u001b[38;5;167;01mRuntimeError\u001b[39;00m(\u001b[38;5;124m\"\u001b[39m\u001b[38;5;124mTester was removed in NumPy 1.25.\u001b[39m\u001b[38;5;124m\"\u001b[39m)\n\u001b[0;32m--> 333\u001b[0m \u001b[38;5;28;01mraise\u001b[39;00m \u001b[38;5;167;01mAttributeError\u001b[39;00m(\u001b[38;5;124m\"\u001b[39m\u001b[38;5;124mmodule \u001b[39m\u001b[38;5;132;01m{!r}\u001b[39;00m\u001b[38;5;124m has no attribute \u001b[39m\u001b[38;5;124m\"\u001b[39m\n\u001b[1;32m    334\u001b[0m                      \u001b[38;5;124m\"\u001b[39m\u001b[38;5;132;01m{!r}\u001b[39;00m\u001b[38;5;124m\"\u001b[39m\u001b[38;5;241m.\u001b[39mformat(\u001b[38;5;18m__name__\u001b[39m, attr))\n",
      "\u001b[0;31mAttributeError\u001b[0m: module 'numpy' has no attribute 'magic'"
     ]
    }
   ],
   "source": [
    "E1 = np.random.rand(5,5)\n",
    "F1 = np"
   ]
  }
 ],
 "metadata": {
  "kernelspec": {
   "display_name": "workbook_env",
   "language": "python",
   "name": "python3"
  },
  "language_info": {
   "codemirror_mode": {
    "name": "ipython",
    "version": 3
   },
   "file_extension": ".py",
   "mimetype": "text/x-python",
   "name": "python",
   "nbconvert_exporter": "python",
   "pygments_lexer": "ipython3",
   "version": "3.11.9"
  }
 },
 "nbformat": 4,
 "nbformat_minor": 2
}
